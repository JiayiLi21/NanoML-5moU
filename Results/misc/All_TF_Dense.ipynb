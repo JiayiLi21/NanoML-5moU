{
 "cells": [
  {
   "cell_type": "code",
   "execution_count": 1,
   "id": "7310ac81",
   "metadata": {},
   "outputs": [
    {
     "name": "stderr",
     "output_type": "stream",
     "text": [
      "2023-04-22 13:14:06.810966: I tensorflow/core/util/port.cc:110] oneDNN custom operations are on. You may see slightly different numerical results due to floating-point round-off errors from different computation orders. To turn them off, set the environment variable `TF_ENABLE_ONEDNN_OPTS=0`.\n",
      "2023-04-22 13:14:06.814437: I tensorflow/tsl/cuda/cudart_stub.cc:28] Could not find cuda drivers on your machine, GPU will not be used.\n",
      "2023-04-22 13:14:06.876196: I tensorflow/tsl/cuda/cudart_stub.cc:28] Could not find cuda drivers on your machine, GPU will not be used.\n",
      "2023-04-22 13:14:06.878177: I tensorflow/core/platform/cpu_feature_guard.cc:182] This TensorFlow binary is optimized to use available CPU instructions in performance-critical operations.\n",
      "To enable the following instructions: AVX2 AVX512F AVX512_VNNI FMA, in other operations, rebuild TensorFlow with the appropriate compiler flags.\n",
      "2023-04-22 13:14:07.858274: W tensorflow/compiler/tf2tensorrt/utils/py_utils.cc:38] TF-TRT Warning: Could not find TensorRT\n"
     ]
    }
   ],
   "source": [
    "import numpy as np\n",
    "import pandas as pd\n",
    "\n",
    "import tensorflow as tf\n",
    "import datetime\n",
    "\n",
    "from tensorflow import feature_column\n",
    "from tensorflow.keras import layers\n",
    "from sklearn.model_selection import train_test_split\n",
    "     "
   ]
  },
  {
   "cell_type": "code",
   "execution_count": 2,
   "id": "1df56134",
   "metadata": {},
   "outputs": [],
   "source": [
    "#%jupyter nbconvert --to script All_TF_Dense.ipynb"
   ]
  },
  {
   "cell_type": "code",
   "execution_count": 3,
   "id": "0a1a3a01",
   "metadata": {
    "scrolled": true
   },
   "outputs": [
    {
     "data": {
      "text/html": [
       "<div>\n",
       "<style scoped>\n",
       "    .dataframe tbody tr th:only-of-type {\n",
       "        vertical-align: middle;\n",
       "    }\n",
       "\n",
       "    .dataframe tbody tr th {\n",
       "        vertical-align: top;\n",
       "    }\n",
       "\n",
       "    .dataframe thead th {\n",
       "        text-align: right;\n",
       "    }\n",
       "</style>\n",
       "<table border=\"1\" class=\"dataframe\">\n",
       "  <thead>\n",
       "    <tr style=\"text-align: right;\">\n",
       "      <th></th>\n",
       "      <th>indx</th>\n",
       "      <th>kmer</th>\n",
       "      <th>mean_1</th>\n",
       "      <th>mean_2</th>\n",
       "      <th>mean_3</th>\n",
       "      <th>mean_4</th>\n",
       "      <th>mean_5</th>\n",
       "      <th>std_1</th>\n",
       "      <th>std_2</th>\n",
       "      <th>std_3</th>\n",
       "      <th>...</th>\n",
       "      <th>mdintense_2</th>\n",
       "      <th>mdintense_3</th>\n",
       "      <th>mdintense_4</th>\n",
       "      <th>mdintense_5</th>\n",
       "      <th>L-1</th>\n",
       "      <th>L-2</th>\n",
       "      <th>L-3</th>\n",
       "      <th>L-4</th>\n",
       "      <th>L-5</th>\n",
       "      <th>label</th>\n",
       "    </tr>\n",
       "  </thead>\n",
       "  <tbody>\n",
       "    <tr>\n",
       "      <th>0</th>\n",
       "      <td>20</td>\n",
       "      <td>CATCT</td>\n",
       "      <td>-0.261382</td>\n",
       "      <td>-0.290529</td>\n",
       "      <td>-0.375176</td>\n",
       "      <td>-0.548695</td>\n",
       "      <td>-0.420694</td>\n",
       "      <td>0.034490</td>\n",
       "      <td>0.048193</td>\n",
       "      <td>0.075762</td>\n",
       "      <td>...</td>\n",
       "      <td>-0.302072</td>\n",
       "      <td>-0.405521</td>\n",
       "      <td>-0.548282</td>\n",
       "      <td>-0.413797</td>\n",
       "      <td>6</td>\n",
       "      <td>19</td>\n",
       "      <td>12</td>\n",
       "      <td>50</td>\n",
       "      <td>6</td>\n",
       "      <td>1</td>\n",
       "    </tr>\n",
       "    <tr>\n",
       "      <th>1</th>\n",
       "      <td>22</td>\n",
       "      <td>TCTTC</td>\n",
       "      <td>-0.375176</td>\n",
       "      <td>-0.548695</td>\n",
       "      <td>-0.420694</td>\n",
       "      <td>-0.102165</td>\n",
       "      <td>0.324141</td>\n",
       "      <td>0.075762</td>\n",
       "      <td>0.072908</td>\n",
       "      <td>0.065934</td>\n",
       "      <td>...</td>\n",
       "      <td>-0.548282</td>\n",
       "      <td>-0.413797</td>\n",
       "      <td>-0.103449</td>\n",
       "      <td>0.339314</td>\n",
       "      <td>12</td>\n",
       "      <td>50</td>\n",
       "      <td>6</td>\n",
       "      <td>29</td>\n",
       "      <td>12</td>\n",
       "      <td>1</td>\n",
       "    </tr>\n",
       "    <tr>\n",
       "      <th>2</th>\n",
       "      <td>23</td>\n",
       "      <td>CTTCG</td>\n",
       "      <td>-0.548695</td>\n",
       "      <td>-0.420694</td>\n",
       "      <td>-0.102165</td>\n",
       "      <td>0.324141</td>\n",
       "      <td>0.612248</td>\n",
       "      <td>0.072908</td>\n",
       "      <td>0.065934</td>\n",
       "      <td>0.077537</td>\n",
       "      <td>...</td>\n",
       "      <td>-0.413797</td>\n",
       "      <td>-0.103449</td>\n",
       "      <td>0.339314</td>\n",
       "      <td>0.643455</td>\n",
       "      <td>50</td>\n",
       "      <td>6</td>\n",
       "      <td>29</td>\n",
       "      <td>12</td>\n",
       "      <td>24</td>\n",
       "      <td>1</td>\n",
       "    </tr>\n",
       "    <tr>\n",
       "      <th>3</th>\n",
       "      <td>35</td>\n",
       "      <td>CGTGG</td>\n",
       "      <td>-0.134270</td>\n",
       "      <td>0.017096</td>\n",
       "      <td>0.317245</td>\n",
       "      <td>0.286391</td>\n",
       "      <td>0.191036</td>\n",
       "      <td>0.240493</td>\n",
       "      <td>0.116132</td>\n",
       "      <td>0.178935</td>\n",
       "      <td>...</td>\n",
       "      <td>0.000000</td>\n",
       "      <td>0.318624</td>\n",
       "      <td>0.264830</td>\n",
       "      <td>0.208968</td>\n",
       "      <td>29</td>\n",
       "      <td>38</td>\n",
       "      <td>6</td>\n",
       "      <td>19</td>\n",
       "      <td>6</td>\n",
       "      <td>1</td>\n",
       "    </tr>\n",
       "    <tr>\n",
       "      <th>4</th>\n",
       "      <td>44</td>\n",
       "      <td>CCTGC</td>\n",
       "      <td>-1.068734</td>\n",
       "      <td>-0.164691</td>\n",
       "      <td>0.164829</td>\n",
       "      <td>0.237456</td>\n",
       "      <td>-0.655237</td>\n",
       "      <td>0.200275</td>\n",
       "      <td>0.057011</td>\n",
       "      <td>0.052036</td>\n",
       "      <td>...</td>\n",
       "      <td>-0.165519</td>\n",
       "      <td>0.161381</td>\n",
       "      <td>0.240002</td>\n",
       "      <td>-0.657938</td>\n",
       "      <td>131</td>\n",
       "      <td>35</td>\n",
       "      <td>18</td>\n",
       "      <td>39</td>\n",
       "      <td>72</td>\n",
       "      <td>1</td>\n",
       "    </tr>\n",
       "    <tr>\n",
       "      <th>...</th>\n",
       "      <td>...</td>\n",
       "      <td>...</td>\n",
       "      <td>...</td>\n",
       "      <td>...</td>\n",
       "      <td>...</td>\n",
       "      <td>...</td>\n",
       "      <td>...</td>\n",
       "      <td>...</td>\n",
       "      <td>...</td>\n",
       "      <td>...</td>\n",
       "      <td>...</td>\n",
       "      <td>...</td>\n",
       "      <td>...</td>\n",
       "      <td>...</td>\n",
       "      <td>...</td>\n",
       "      <td>...</td>\n",
       "      <td>...</td>\n",
       "      <td>...</td>\n",
       "      <td>...</td>\n",
       "      <td>...</td>\n",
       "      <td>...</td>\n",
       "    </tr>\n",
       "    <tr>\n",
       "      <th>1822819</th>\n",
       "      <td>350</td>\n",
       "      <td>GCTGG</td>\n",
       "      <td>0.160716</td>\n",
       "      <td>0.201952</td>\n",
       "      <td>0.291149</td>\n",
       "      <td>0.341133</td>\n",
       "      <td>0.261907</td>\n",
       "      <td>0.102909</td>\n",
       "      <td>0.062878</td>\n",
       "      <td>0.118291</td>\n",
       "      <td>...</td>\n",
       "      <td>0.194064</td>\n",
       "      <td>0.291096</td>\n",
       "      <td>0.343161</td>\n",
       "      <td>0.269796</td>\n",
       "      <td>22</td>\n",
       "      <td>6</td>\n",
       "      <td>980</td>\n",
       "      <td>14</td>\n",
       "      <td>6</td>\n",
       "      <td>0</td>\n",
       "    </tr>\n",
       "    <tr>\n",
       "      <th>1822820</th>\n",
       "      <td>365</td>\n",
       "      <td>GATCC</td>\n",
       "      <td>0.713934</td>\n",
       "      <td>0.005522</td>\n",
       "      <td>-0.667390</td>\n",
       "      <td>-0.689873</td>\n",
       "      <td>-0.575091</td>\n",
       "      <td>0.217518</td>\n",
       "      <td>0.459278</td>\n",
       "      <td>0.056848</td>\n",
       "      <td>...</td>\n",
       "      <td>0.030766</td>\n",
       "      <td>-0.688690</td>\n",
       "      <td>-0.655557</td>\n",
       "      <td>-0.570358</td>\n",
       "      <td>6</td>\n",
       "      <td>6</td>\n",
       "      <td>6</td>\n",
       "      <td>16</td>\n",
       "      <td>6</td>\n",
       "      <td>0</td>\n",
       "    </tr>\n",
       "    <tr>\n",
       "      <th>1822821</th>\n",
       "      <td>374</td>\n",
       "      <td>GATCC</td>\n",
       "      <td>0.404221</td>\n",
       "      <td>0.204545</td>\n",
       "      <td>-0.725696</td>\n",
       "      <td>-0.713145</td>\n",
       "      <td>0.062983</td>\n",
       "      <td>0.418295</td>\n",
       "      <td>0.532178</td>\n",
       "      <td>0.098837</td>\n",
       "      <td>...</td>\n",
       "      <td>0.508826</td>\n",
       "      <td>-0.731289</td>\n",
       "      <td>-0.707623</td>\n",
       "      <td>0.059166</td>\n",
       "      <td>10</td>\n",
       "      <td>7</td>\n",
       "      <td>2203</td>\n",
       "      <td>6</td>\n",
       "      <td>625</td>\n",
       "      <td>0</td>\n",
       "    </tr>\n",
       "    <tr>\n",
       "      <th>1822822</th>\n",
       "      <td>377</td>\n",
       "      <td>CCTGA</td>\n",
       "      <td>-0.713145</td>\n",
       "      <td>0.062983</td>\n",
       "      <td>0.264506</td>\n",
       "      <td>0.270585</td>\n",
       "      <td>0.073087</td>\n",
       "      <td>0.044437</td>\n",
       "      <td>0.174422</td>\n",
       "      <td>0.070813</td>\n",
       "      <td>...</td>\n",
       "      <td>0.059166</td>\n",
       "      <td>0.243763</td>\n",
       "      <td>0.250863</td>\n",
       "      <td>0.134898</td>\n",
       "      <td>6</td>\n",
       "      <td>625</td>\n",
       "      <td>34</td>\n",
       "      <td>6</td>\n",
       "      <td>17</td>\n",
       "      <td>0</td>\n",
       "    </tr>\n",
       "    <tr>\n",
       "      <th>1822823</th>\n",
       "      <td>380</td>\n",
       "      <td>GATCA</td>\n",
       "      <td>0.270585</td>\n",
       "      <td>0.073087</td>\n",
       "      <td>-0.577806</td>\n",
       "      <td>-0.538803</td>\n",
       "      <td>0.255019</td>\n",
       "      <td>0.056049</td>\n",
       "      <td>0.242040</td>\n",
       "      <td>0.213394</td>\n",
       "      <td>...</td>\n",
       "      <td>0.134898</td>\n",
       "      <td>-0.627157</td>\n",
       "      <td>-0.579825</td>\n",
       "      <td>0.257963</td>\n",
       "      <td>6</td>\n",
       "      <td>17</td>\n",
       "      <td>211</td>\n",
       "      <td>6</td>\n",
       "      <td>82</td>\n",
       "      <td>0</td>\n",
       "    </tr>\n",
       "  </tbody>\n",
       "</table>\n",
       "<p>1822824 rows × 23 columns</p>\n",
       "</div>"
      ],
      "text/plain": [
       "         indx   kmer    mean_1    mean_2    mean_3    mean_4    mean_5  \\\n",
       "0          20  CATCT -0.261382 -0.290529 -0.375176 -0.548695 -0.420694   \n",
       "1          22  TCTTC -0.375176 -0.548695 -0.420694 -0.102165  0.324141   \n",
       "2          23  CTTCG -0.548695 -0.420694 -0.102165  0.324141  0.612248   \n",
       "3          35  CGTGG -0.134270  0.017096  0.317245  0.286391  0.191036   \n",
       "4          44  CCTGC -1.068734 -0.164691  0.164829  0.237456 -0.655237   \n",
       "...       ...    ...       ...       ...       ...       ...       ...   \n",
       "1822819   350  GCTGG  0.160716  0.201952  0.291149  0.341133  0.261907   \n",
       "1822820   365  GATCC  0.713934  0.005522 -0.667390 -0.689873 -0.575091   \n",
       "1822821   374  GATCC  0.404221  0.204545 -0.725696 -0.713145  0.062983   \n",
       "1822822   377  CCTGA -0.713145  0.062983  0.264506  0.270585  0.073087   \n",
       "1822823   380  GATCA  0.270585  0.073087 -0.577806 -0.538803  0.255019   \n",
       "\n",
       "            std_1     std_2     std_3  ...  mdintense_2  mdintense_3  \\\n",
       "0        0.034490  0.048193  0.075762  ...    -0.302072    -0.405521   \n",
       "1        0.075762  0.072908  0.065934  ...    -0.548282    -0.413797   \n",
       "2        0.072908  0.065934  0.077537  ...    -0.413797    -0.103449   \n",
       "3        0.240493  0.116132  0.178935  ...     0.000000     0.318624   \n",
       "4        0.200275  0.057011  0.052036  ...    -0.165519     0.161381   \n",
       "...           ...       ...       ...  ...          ...          ...   \n",
       "1822819  0.102909  0.062878  0.118291  ...     0.194064     0.291096   \n",
       "1822820  0.217518  0.459278  0.056848  ...     0.030766    -0.688690   \n",
       "1822821  0.418295  0.532178  0.098837  ...     0.508826    -0.731289   \n",
       "1822822  0.044437  0.174422  0.070813  ...     0.059166     0.243763   \n",
       "1822823  0.056049  0.242040  0.213394  ...     0.134898    -0.627157   \n",
       "\n",
       "         mdintense_4  mdintense_5  L-1  L-2   L-3  L-4  L-5  label  \n",
       "0          -0.548282    -0.413797    6   19    12   50    6      1  \n",
       "1          -0.103449     0.339314   12   50     6   29   12      1  \n",
       "2           0.339314     0.643455   50    6    29   12   24      1  \n",
       "3           0.264830     0.208968   29   38     6   19    6      1  \n",
       "4           0.240002    -0.657938  131   35    18   39   72      1  \n",
       "...              ...          ...  ...  ...   ...  ...  ...    ...  \n",
       "1822819     0.343161     0.269796   22    6   980   14    6      0  \n",
       "1822820    -0.655557    -0.570358    6    6     6   16    6      0  \n",
       "1822821    -0.707623     0.059166   10    7  2203    6  625      0  \n",
       "1822822     0.250863     0.134898    6  625    34    6   17      0  \n",
       "1822823    -0.579825     0.257963    6   17   211    6   82      0  \n",
       "\n",
       "[1822824 rows x 23 columns]"
      ]
     },
     "execution_count": 3,
     "metadata": {},
     "output_type": "execute_result"
    }
   ],
   "source": [
    "data=pd.read_csv('/home/jiayi/5moU/data/DL_fromTombo/all_tombo.csv')\n",
    "data"
   ]
  },
  {
   "cell_type": "code",
   "execution_count": 7,
   "id": "6c68726c",
   "metadata": {},
   "outputs": [
    {
     "name": "stdout",
     "output_type": "stream",
     "text": [
      "1166607 train examples\n",
      "291652 validation examples\n",
      "364565 test examples\n"
     ]
    }
   ],
   "source": [
    "train, test = train_test_split(data, test_size=0.2)\n",
    "train, val = train_test_split(train, test_size=0.2)\n",
    "print(len(train), 'train examples')\n",
    "print(len(val), 'validation examples')\n",
    "print(len(test), 'test examples')"
   ]
  },
  {
   "cell_type": "code",
   "execution_count": 8,
   "id": "97a0d316",
   "metadata": {},
   "outputs": [],
   "source": [
    "# A utility method to create a tf.data dataset from a Pandas Dataframe\n",
    "def df_to_dataset(data, shuffle=True, batch_size=32):\n",
    "  data = data.copy()\n",
    "  labels = data.pop('label')\n",
    "  ds = tf.data.Dataset.from_tensor_slices((dict(data), labels))\n",
    "  if shuffle:\n",
    "    ds = ds.shuffle(buffer_size=len(data))\n",
    "  ds = ds.batch(batch_size)\n",
    "  return ds"
   ]
  },
  {
   "cell_type": "code",
   "execution_count": 9,
   "id": "fe6040fc",
   "metadata": {},
   "outputs": [],
   "source": [
    "# A utility method to create a feature column\n",
    "# and to transform a batch of data\n",
    "def demo(feature_column):\n",
    "  feature_layer = layers.DenseFeatures(feature_column)\n",
    "  print(feature_layer(example_batch).numpy())"
   ]
  },
  {
   "cell_type": "code",
   "execution_count": 10,
   "id": "20b5f6bb",
   "metadata": {},
   "outputs": [
    {
     "name": "stderr",
     "output_type": "stream",
     "text": [
      "2023-04-22 13:16:33.715299: W tensorflow/core/common_runtime/gpu/gpu_device.cc:1956] Cannot dlopen some GPU libraries. Please make sure the missing libraries mentioned above are installed properly if you would like to use GPU. Follow the guide at https://www.tensorflow.org/install/gpu for how to download and setup the required libraries for your platform.\n",
      "Skipping registering GPU devices...\n"
     ]
    }
   ],
   "source": [
    "batch_size = 5 # A small batch sized is used for demonstration purposes\n",
    "train_ds = df_to_dataset(train, batch_size=batch_size)\n",
    "val_ds = df_to_dataset(val, shuffle=False, batch_size=batch_size)\n",
    "test_ds = df_to_dataset(test, shuffle=False, batch_size=batch_size)\n",
    "\n",
    "\n"
   ]
  },
  {
   "cell_type": "code",
   "execution_count": 12,
   "id": "1945d29c",
   "metadata": {},
   "outputs": [
    {
     "name": "stderr",
     "output_type": "stream",
     "text": [
      "2023-04-22 13:17:53.114670: I tensorflow/core/common_runtime/executor.cc:1197] [/device:CPU:0] (DEBUG INFO) Executor start aborting (this does not indicate an error and you can ignore this message): INVALID_ARGUMENT: You must feed a value for placeholder tensor 'Placeholder/_19' with dtype double and shape [1166607]\n",
      "\t [[{{node Placeholder/_19}}]]\n",
      "2023-04-22 13:17:53.115510: I tensorflow/core/common_runtime/executor.cc:1197] [/device:CPU:0] (DEBUG INFO) Executor start aborting (this does not indicate an error and you can ignore this message): INVALID_ARGUMENT: You must feed a value for placeholder tensor 'Placeholder/_9' with dtype double and shape [1166607]\n",
      "\t [[{{node Placeholder/_9}}]]\n",
      "2023-04-22 13:18:03.138405: I tensorflow/core/kernels/data/shuffle_dataset_op.cc:392] Filling up shuffle buffer (this may take a while): 999552 of 1166607\n",
      "2023-04-22 13:18:04.828815: I tensorflow/core/kernels/data/shuffle_dataset_op.cc:417] Shuffle buffer filled.\n"
     ]
    },
    {
     "name": "stdout",
     "output_type": "stream",
     "text": [
      "Every feature: ['indx', 'kmer', 'mean_1', 'mean_2', 'mean_3', 'mean_4', 'mean_5', 'std_1', 'std_2', 'std_3', 'std_4', 'std_5', 'mdintense_1', 'mdintense_2', 'mdintense_3', 'mdintense_4', 'mdintense_5', 'L-1', 'L-2', 'L-3', 'L-4', 'L-5']\n",
      "A batch of kmer: tf.Tensor([b'GCTGG' b'CTTCC' b'CGTGG' b'GCTGC' b'GGTGC'], shape=(5,), dtype=string)\n",
      "A batch of targets: tf.Tensor([0 0 0 0 0], shape=(5,), dtype=int64)\n"
     ]
    }
   ],
   "source": [
    "#Understand the input pipeline\n",
    "#Now that we have created the input pipeline, let's call it to see the format of the data it returns. We have used a small batch size to keep the output readable.\n",
    "for feature_batch, label_batch in train_ds.take(1):\n",
    "  print('Every feature:', list(feature_batch.keys()))\n",
    "  print('A batch of kmer:', feature_batch['kmer'])\n",
    "  print('A batch of targets:', label_batch )"
   ]
  },
  {
   "cell_type": "code",
   "execution_count": 11,
   "id": "2c4cc7fe",
   "metadata": {},
   "outputs": [
    {
     "name": "stderr",
     "output_type": "stream",
     "text": [
      "2023-04-22 13:17:38.847401: I tensorflow/core/common_runtime/executor.cc:1197] [/device:CPU:0] (DEBUG INFO) Executor start aborting (this does not indicate an error and you can ignore this message): INVALID_ARGUMENT: You must feed a value for placeholder tensor 'Placeholder/_7' with dtype double and shape [1166607]\n",
      "\t [[{{node Placeholder/_7}}]]\n",
      "2023-04-22 13:17:38.848164: I tensorflow/core/common_runtime/executor.cc:1197] [/device:CPU:0] (DEBUG INFO) Executor start aborting (this does not indicate an error and you can ignore this message): INVALID_ARGUMENT: You must feed a value for placeholder tensor 'Placeholder/_9' with dtype double and shape [1166607]\n",
      "\t [[{{node Placeholder/_9}}]]\n",
      "2023-04-22 13:17:48.874608: I tensorflow/core/kernels/data/shuffle_dataset_op.cc:392] Filling up shuffle buffer (this may take a while): 995392 of 1166607\n",
      "2023-04-22 13:17:50.575468: I tensorflow/core/kernels/data/shuffle_dataset_op.cc:417] Shuffle buffer filled.\n"
     ]
    }
   ],
   "source": [
    "# We will use this batch to demonstrate several types of feature columns\n",
    "example_batch = next(iter(train_ds))[0]"
   ]
  },
  {
   "cell_type": "code",
   "execution_count": 13,
   "id": "16801961",
   "metadata": {},
   "outputs": [],
   "source": [
    "# A utility method to create a feature column\n",
    "# and to transform a batch of data\n",
    "def demo(feature_column):\n",
    "  feature_layer = layers.DenseFeatures(feature_column)\n",
    "  print(feature_layer(example_batch).numpy())"
   ]
  },
  {
   "cell_type": "code",
   "execution_count": 14,
   "id": "93db51fb",
   "metadata": {},
   "outputs": [
    {
     "name": "stdout",
     "output_type": "stream",
     "text": [
      "WARNING:tensorflow:From /tmp/ipykernel_638888/2947573881.py:1: categorical_column_with_vocabulary_list (from tensorflow.python.feature_column.feature_column_v2) is deprecated and will be removed in a future version.\n",
      "Instructions for updating:\n",
      "Use Keras preprocessing layers instead, either directly or via the `tf.keras.utils.FeatureSpace` utility. Each of `tf.feature_column.*` has a functional equivalent in `tf.keras.layers` for feature preprocessing when training a Keras model.\n",
      "WARNING:tensorflow:From /tmp/ipykernel_638888/2947573881.py:3: embedding_column (from tensorflow.python.feature_column.feature_column_v2) is deprecated and will be removed in a future version.\n",
      "Instructions for updating:\n",
      "Use Keras preprocessing layers instead, either directly or via the `tf.keras.utils.FeatureSpace` utility. Each of `tf.feature_column.*` has a functional equivalent in `tf.keras.layers` for feature preprocessing when training a Keras model.\n",
      "[[-0.57118255 -0.7825897  -0.4179525  -0.39022332]\n",
      " [-0.00629056  0.4480984  -0.5145875   0.19528568]\n",
      " [ 0.2513473   0.20163177  0.42016658 -0.5076733 ]\n",
      " [ 0.25694636 -0.6722582  -0.1490604  -0.6648957 ]\n",
      " [-0.296528   -0.03589111 -0.35630143  0.14361462]]\n"
     ]
    }
   ],
   "source": [
    "kmer = feature_column.categorical_column_with_vocabulary_list(\n",
    "      'kmer', data.kmer.unique())\n",
    "kmer_embedding = feature_column.embedding_column(kmer, dimension=4)\n",
    "demo(kmer_embedding)"
   ]
  },
  {
   "cell_type": "code",
   "execution_count": 15,
   "id": "9b5619c7",
   "metadata": {},
   "outputs": [
    {
     "name": "stdout",
     "output_type": "stream",
     "text": [
      "WARNING:tensorflow:From /tmp/ipykernel_638888/1034061581.py:11: numeric_column (from tensorflow.python.feature_column.feature_column_v2) is deprecated and will be removed in a future version.\n",
      "Instructions for updating:\n",
      "Use Keras preprocessing layers instead, either directly or via the `tf.keras.utils.FeatureSpace` utility. Each of `tf.feature_column.*` has a functional equivalent in `tf.keras.layers` for feature preprocessing when training a Keras model.\n",
      "[[ 6.00000000e+00  1.13000000e+02  6.00000000e+00  2.50000000e+01\n",
      "   2.60000000e+01  4.08606172e-01  3.38708907e-01  8.40092838e-01\n",
      "  -2.23503828e-01  1.08053708e+00 -2.05279484e-01 -7.96303928e-01\n",
      "  -8.23373795e-01 -6.54187381e-01  1.04895568e+00 -1.78249598e-01\n",
      "  -7.95552015e-01 -8.19223046e-01 -6.27464592e-01  1.30967051e-01\n",
      "   2.38098368e-01  3.69675979e-02  4.75573651e-02  1.33151650e-01]\n",
      " [ 3.40000000e+01  3.10000000e+01  1.50000000e+01  4.00000000e+01\n",
      "   6.00000000e+00 -1.65137127e-01 -1.97648853e-02  4.11157191e-01\n",
      "  -6.01598740e-01  6.55688643e-01 -4.06573951e-01 -7.16792226e-01\n",
      "  -7.89646566e-01 -7.54394472e-01  6.31496012e-01 -3.10748965e-01\n",
      "  -7.16165543e-01 -7.86473870e-01 -7.54394472e-01  3.13220263e-01\n",
      "   2.52846330e-01  6.35694936e-02  3.40873376e-02  3.83776017e-02]\n",
      " [ 6.00000000e+00  3.60000000e+01  6.00000000e+00  2.50000000e+01\n",
      "   1.48000000e+02 -9.90635157e-01  6.27949178e-01 -6.32719278e-01\n",
      "   7.94954777e-01  4.71912622e-01 -5.59389114e-01 -2.60127455e-01\n",
      "  -2.27899268e-01 -2.92355627e-01  4.93398070e-01 -5.51076293e-01\n",
      "  -2.70870179e-01 -2.25873500e-01 -2.96275258e-01  7.05616921e-02\n",
      "   5.52570410e-02  6.39979765e-02  7.96491653e-02  1.66882828e-01]\n",
      " [ 4.90000000e+01  2.50000000e+01  1.70000000e+01  2.00000000e+01\n",
      "   6.00000000e+00  1.02009550e-01  3.44157256e-02  2.12731972e-01\n",
      "  -2.55903721e-01 -6.27193213e-01 -5.36712885e-01 -2.94061095e-01\n",
      "   4.11274247e-02  5.34656495e-02 -6.45155013e-01 -5.38193464e-01\n",
      "  -2.98173815e-01  4.89416346e-02  6.30620494e-02  1.00045584e-01\n",
      "   3.11892331e-02  7.17219859e-02  6.10073730e-02  5.75008206e-02]\n",
      " [ 6.00000000e+00  1.20000000e+01  2.80000000e+01  6.00000000e+00\n",
      "   1.37000000e+02 -4.14642036e-01 -4.06092227e-01  5.60138464e-01\n",
      "  -8.47261012e-01  5.20985186e-01 -3.37244868e-01  2.13976055e-01\n",
      "   6.04714930e-01  5.81456661e-01  4.93075252e-01 -2.26380467e-01\n",
      "   2.18295455e-01  5.92310548e-01  5.80743670e-01  8.71900693e-02\n",
      "   2.60058433e-01  7.51490295e-02  4.48321141e-02  1.10830195e-01]]\n"
     ]
    }
   ],
   "source": [
    "feature_columns = []\n",
    "# embedding columns\n",
    "kmer = feature_column.categorical_column_with_vocabulary_list(\n",
    "      'kmer', data.kmer.unique())\n",
    "kmer_embedding = feature_column.embedding_column(kmer, dimension=4)\n",
    "feature_columns.append(kmer_embedding)\n",
    "\n",
    "# numeric cols\n",
    "for header in ['mean_1','mean_2','mean_3','mean_4','mean_5','std_1','std_2','std_3','std_4','std_5',\n",
    "       'mdintense_1','mdintense_2','mdintense_3','mdintense_4','mdintense_5','L-1','L-2','L-3','L-4','L-5']:\n",
    "  feature_columns.append(feature_column.numeric_column(header))\n",
    "\n",
    "demo(feature_columns)"
   ]
  },
  {
   "cell_type": "code",
   "execution_count": 16,
   "id": "c3afad88",
   "metadata": {},
   "outputs": [
    {
     "name": "stderr",
     "output_type": "stream",
     "text": [
      "2023-04-22 13:18:19.747751: I tensorflow/core/common_runtime/executor.cc:1197] [/device:CPU:0] (DEBUG INFO) Executor start aborting (this does not indicate an error and you can ignore this message): INVALID_ARGUMENT: You must feed a value for placeholder tensor 'Placeholder/_20' with dtype double and shape [291652]\n",
      "\t [[{{node Placeholder/_20}}]]\n"
     ]
    }
   ],
   "source": [
    "feature_layer = tf.keras.layers.DenseFeatures(feature_columns)\n",
    "\n",
    "batch_size = 100\n",
    "train_ds = df_to_dataset(train, batch_size=batch_size)\n",
    "val_ds = df_to_dataset(val, shuffle=False, batch_size=batch_size)\n",
    "test_ds = df_to_dataset(test, shuffle=False, batch_size=batch_size)\n",
    "\n",
    "\n",
    "### https://stackoverflow.com/questions/56226621/how-to-extract-data-labels-back-from-tensorflow-dataset\n",
    "val, labels = tuple(zip(*val_ds))"
   ]
  },
  {
   "cell_type": "code",
   "execution_count": 13,
   "id": "164d0b3f",
   "metadata": {},
   "outputs": [
    {
     "name": "stdout",
     "output_type": "stream",
     "text": [
      "WARNING:tensorflow:From /home/jiayi/miniconda3/lib/python3.9/site-packages/keras/feature_column/base_feature_layer.py:129: serialize_feature_column (from tensorflow.python.feature_column.serialization) is deprecated and will be removed in a future version.\n",
      "Instructions for updating:\n",
      "Use Keras preprocessing layers instead, either directly or via the `tf.keras.utils.FeatureSpace` utility. Each of `tf.feature_column.*` has a functional equivalent in `tf.keras.layers` for feature preprocessing when training a Keras model.\n",
      "Epoch 1/50\n",
      "WARNING:tensorflow:Layers in a Sequential model should only have a single input tensor. Received: inputs={'indx': <tf.Tensor 'IteratorGetNext:5' shape=(None,) dtype=int64>, 'kmer': <tf.Tensor 'IteratorGetNext:6' shape=(None,) dtype=string>, 'mean_1': <tf.Tensor 'IteratorGetNext:12' shape=(None,) dtype=float64>, 'mean_2': <tf.Tensor 'IteratorGetNext:13' shape=(None,) dtype=float64>, 'mean_3': <tf.Tensor 'IteratorGetNext:14' shape=(None,) dtype=float64>, 'mean_4': <tf.Tensor 'IteratorGetNext:15' shape=(None,) dtype=float64>, 'mean_5': <tf.Tensor 'IteratorGetNext:16' shape=(None,) dtype=float64>, 'std_1': <tf.Tensor 'IteratorGetNext:17' shape=(None,) dtype=float64>, 'std_2': <tf.Tensor 'IteratorGetNext:18' shape=(None,) dtype=float64>, 'std_3': <tf.Tensor 'IteratorGetNext:19' shape=(None,) dtype=float64>, 'std_4': <tf.Tensor 'IteratorGetNext:20' shape=(None,) dtype=float64>, 'std_5': <tf.Tensor 'IteratorGetNext:21' shape=(None,) dtype=float64>, 'mdintense_1': <tf.Tensor 'IteratorGetNext:7' shape=(None,) dtype=float64>, 'mdintense_2': <tf.Tensor 'IteratorGetNext:8' shape=(None,) dtype=float64>, 'mdintense_3': <tf.Tensor 'IteratorGetNext:9' shape=(None,) dtype=float64>, 'mdintense_4': <tf.Tensor 'IteratorGetNext:10' shape=(None,) dtype=float64>, 'mdintense_5': <tf.Tensor 'IteratorGetNext:11' shape=(None,) dtype=float64>, 'L-1': <tf.Tensor 'IteratorGetNext:0' shape=(None,) dtype=int64>, 'L-2': <tf.Tensor 'IteratorGetNext:1' shape=(None,) dtype=int64>, 'L-3': <tf.Tensor 'IteratorGetNext:2' shape=(None,) dtype=int64>, 'L-4': <tf.Tensor 'IteratorGetNext:3' shape=(None,) dtype=int64>, 'L-5': <tf.Tensor 'IteratorGetNext:4' shape=(None,) dtype=int64>}. Consider rewriting this model with the Functional API.\n"
     ]
    },
    {
     "name": "stderr",
     "output_type": "stream",
     "text": [
      "2023-04-14 20:07:26.655594: I tensorflow/core/common_runtime/executor.cc:1197] [/device:CPU:0] (DEBUG INFO) Executor start aborting (this does not indicate an error and you can ignore this message): INVALID_ARGUMENT: You must feed a value for placeholder tensor 'Placeholder/_21' with dtype double and shape [1166607]\n",
      "\t [[{{node Placeholder/_21}}]]\n",
      "2023-04-14 20:07:26.657423: I tensorflow/core/common_runtime/executor.cc:1197] [/device:CPU:0] (DEBUG INFO) Executor start aborting (this does not indicate an error and you can ignore this message): INVALID_ARGUMENT: You must feed a value for placeholder tensor 'Placeholder/_9' with dtype double and shape [1166607]\n",
      "\t [[{{node Placeholder/_9}}]]\n"
     ]
    },
    {
     "name": "stdout",
     "output_type": "stream",
     "text": [
      "WARNING:tensorflow:Layers in a Sequential model should only have a single input tensor. Received: inputs={'indx': <tf.Tensor 'IteratorGetNext:5' shape=(None,) dtype=int64>, 'kmer': <tf.Tensor 'IteratorGetNext:6' shape=(None,) dtype=string>, 'mean_1': <tf.Tensor 'IteratorGetNext:12' shape=(None,) dtype=float64>, 'mean_2': <tf.Tensor 'IteratorGetNext:13' shape=(None,) dtype=float64>, 'mean_3': <tf.Tensor 'IteratorGetNext:14' shape=(None,) dtype=float64>, 'mean_4': <tf.Tensor 'IteratorGetNext:15' shape=(None,) dtype=float64>, 'mean_5': <tf.Tensor 'IteratorGetNext:16' shape=(None,) dtype=float64>, 'std_1': <tf.Tensor 'IteratorGetNext:17' shape=(None,) dtype=float64>, 'std_2': <tf.Tensor 'IteratorGetNext:18' shape=(None,) dtype=float64>, 'std_3': <tf.Tensor 'IteratorGetNext:19' shape=(None,) dtype=float64>, 'std_4': <tf.Tensor 'IteratorGetNext:20' shape=(None,) dtype=float64>, 'std_5': <tf.Tensor 'IteratorGetNext:21' shape=(None,) dtype=float64>, 'mdintense_1': <tf.Tensor 'IteratorGetNext:7' shape=(None,) dtype=float64>, 'mdintense_2': <tf.Tensor 'IteratorGetNext:8' shape=(None,) dtype=float64>, 'mdintense_3': <tf.Tensor 'IteratorGetNext:9' shape=(None,) dtype=float64>, 'mdintense_4': <tf.Tensor 'IteratorGetNext:10' shape=(None,) dtype=float64>, 'mdintense_5': <tf.Tensor 'IteratorGetNext:11' shape=(None,) dtype=float64>, 'L-1': <tf.Tensor 'IteratorGetNext:0' shape=(None,) dtype=int64>, 'L-2': <tf.Tensor 'IteratorGetNext:1' shape=(None,) dtype=int64>, 'L-3': <tf.Tensor 'IteratorGetNext:2' shape=(None,) dtype=int64>, 'L-4': <tf.Tensor 'IteratorGetNext:3' shape=(None,) dtype=int64>, 'L-5': <tf.Tensor 'IteratorGetNext:4' shape=(None,) dtype=int64>}. Consider rewriting this model with the Functional API.\n"
     ]
    },
    {
     "name": "stderr",
     "output_type": "stream",
     "text": [
      "2023-04-14 20:07:38.730909: I tensorflow/core/kernels/data/shuffle_dataset_op.cc:392] Filling up shuffle buffer (this may take a while): 644298 of 1166607\n"
     ]
    },
    {
     "name": "stdout",
     "output_type": "stream",
     "text": [
      "    9/11667 [..............................] - ETA: 1:15 - loss: 2.4965 - accuracy: 0.7856    "
     ]
    },
    {
     "name": "stderr",
     "output_type": "stream",
     "text": [
      "2023-04-14 20:07:47.393884: I tensorflow/core/kernels/data/shuffle_dataset_op.cc:417] Shuffle buffer filled.\n"
     ]
    },
    {
     "name": "stdout",
     "output_type": "stream",
     "text": [
      "11664/11667 [============================>.] - ETA: 0s - loss: 0.2985 - accuracy: 0.8917WARNING:tensorflow:Layers in a Sequential model should only have a single input tensor. Received: inputs={'indx': <tf.Tensor 'IteratorGetNext:5' shape=(None,) dtype=int64>, 'kmer': <tf.Tensor 'IteratorGetNext:6' shape=(None,) dtype=string>, 'mean_1': <tf.Tensor 'IteratorGetNext:12' shape=(None,) dtype=float64>, 'mean_2': <tf.Tensor 'IteratorGetNext:13' shape=(None,) dtype=float64>, 'mean_3': <tf.Tensor 'IteratorGetNext:14' shape=(None,) dtype=float64>, 'mean_4': <tf.Tensor 'IteratorGetNext:15' shape=(None,) dtype=float64>, 'mean_5': <tf.Tensor 'IteratorGetNext:16' shape=(None,) dtype=float64>, 'std_1': <tf.Tensor 'IteratorGetNext:17' shape=(None,) dtype=float64>, 'std_2': <tf.Tensor 'IteratorGetNext:18' shape=(None,) dtype=float64>, 'std_3': <tf.Tensor 'IteratorGetNext:19' shape=(None,) dtype=float64>, 'std_4': <tf.Tensor 'IteratorGetNext:20' shape=(None,) dtype=float64>, 'std_5': <tf.Tensor 'IteratorGetNext:21' shape=(None,) dtype=float64>, 'mdintense_1': <tf.Tensor 'IteratorGetNext:7' shape=(None,) dtype=float64>, 'mdintense_2': <tf.Tensor 'IteratorGetNext:8' shape=(None,) dtype=float64>, 'mdintense_3': <tf.Tensor 'IteratorGetNext:9' shape=(None,) dtype=float64>, 'mdintense_4': <tf.Tensor 'IteratorGetNext:10' shape=(None,) dtype=float64>, 'mdintense_5': <tf.Tensor 'IteratorGetNext:11' shape=(None,) dtype=float64>, 'L-1': <tf.Tensor 'IteratorGetNext:0' shape=(None,) dtype=int64>, 'L-2': <tf.Tensor 'IteratorGetNext:1' shape=(None,) dtype=int64>, 'L-3': <tf.Tensor 'IteratorGetNext:2' shape=(None,) dtype=int64>, 'L-4': <tf.Tensor 'IteratorGetNext:3' shape=(None,) dtype=int64>, 'L-5': <tf.Tensor 'IteratorGetNext:4' shape=(None,) dtype=int64>}. Consider rewriting this model with the Functional API.\n"
     ]
    },
    {
     "name": "stderr",
     "output_type": "stream",
     "text": [
      "2023-04-14 20:08:57.232368: I tensorflow/core/common_runtime/executor.cc:1197] [/device:CPU:0] (DEBUG INFO) Executor start aborting (this does not indicate an error and you can ignore this message): INVALID_ARGUMENT: You must feed a value for placeholder tensor 'Placeholder/_9' with dtype double and shape [291652]\n",
      "\t [[{{node Placeholder/_9}}]]\n"
     ]
    },
    {
     "name": "stdout",
     "output_type": "stream",
     "text": [
      "11667/11667 [==============================] - 99s 7ms/step - loss: 0.2985 - accuracy: 0.8917 - val_loss: 0.2511 - val_accuracy: 0.8949\n",
      "Epoch 2/50\n"
     ]
    },
    {
     "name": "stderr",
     "output_type": "stream",
     "text": [
      "2023-04-14 20:09:15.621667: I tensorflow/core/kernels/data/shuffle_dataset_op.cc:392] Filling up shuffle buffer (this may take a while): 637752 of 1166607\n"
     ]
    },
    {
     "name": "stdout",
     "output_type": "stream",
     "text": [
      "   35/11667 [..............................] - ETA: 55s - loss: 0.2377 - accuracy: 0.9017   "
     ]
    },
    {
     "name": "stderr",
     "output_type": "stream",
     "text": [
      "2023-04-14 20:09:23.764530: I tensorflow/core/kernels/data/shuffle_dataset_op.cc:417] Shuffle buffer filled.\n"
     ]
    },
    {
     "name": "stdout",
     "output_type": "stream",
     "text": [
      "11667/11667 [==============================] - 93s 6ms/step - loss: 0.2372 - accuracy: 0.9001 - val_loss: 0.2246 - val_accuracy: 0.9023\n",
      "Epoch 3/50\n"
     ]
    },
    {
     "name": "stderr",
     "output_type": "stream",
     "text": [
      "2023-04-14 20:10:48.340196: I tensorflow/core/kernels/data/shuffle_dataset_op.cc:392] Filling up shuffle buffer (this may take a while): 734240 of 1166607\n",
      "2023-04-14 20:10:58.340169: I tensorflow/core/kernels/data/shuffle_dataset_op.cc:392] Filling up shuffle buffer (this may take a while): 1005472 of 1166607\n"
     ]
    },
    {
     "name": "stdout",
     "output_type": "stream",
     "text": [
      "   32/11667 [..............................] - ETA: 58s - loss: 0.2412 - accuracy: 0.9016  "
     ]
    },
    {
     "name": "stderr",
     "output_type": "stream",
     "text": [
      "2023-04-14 20:11:00.921267: I tensorflow/core/kernels/data/shuffle_dataset_op.cc:417] Shuffle buffer filled.\n"
     ]
    },
    {
     "name": "stdout",
     "output_type": "stream",
     "text": [
      "11667/11667 [==============================] - 91s 6ms/step - loss: 0.2146 - accuracy: 0.9096 - val_loss: 0.2061 - val_accuracy: 0.9140\n",
      "Epoch 4/50\n"
     ]
    },
    {
     "name": "stderr",
     "output_type": "stream",
     "text": [
      "2023-04-14 20:12:19.088390: I tensorflow/core/kernels/data/shuffle_dataset_op.cc:392] Filling up shuffle buffer (this may take a while): 749714 of 1166607\n"
     ]
    },
    {
     "name": "stdout",
     "output_type": "stream",
     "text": [
      "   22/11667 [..............................] - ETA: 58s - loss: 0.2067 - accuracy: 0.9136   "
     ]
    },
    {
     "name": "stderr",
     "output_type": "stream",
     "text": [
      "2023-04-14 20:12:29.088397: I tensorflow/core/kernels/data/shuffle_dataset_op.cc:392] Filling up shuffle buffer (this may take a while): 1160066 of 1166607\n",
      "2023-04-14 20:12:29.172009: I tensorflow/core/kernels/data/shuffle_dataset_op.cc:417] Shuffle buffer filled.\n"
     ]
    },
    {
     "name": "stdout",
     "output_type": "stream",
     "text": [
      "11667/11667 [==============================] - 88s 6ms/step - loss: 0.1993 - accuracy: 0.9162 - val_loss: 0.1927 - val_accuracy: 0.9173\n",
      "Epoch 5/50\n"
     ]
    },
    {
     "name": "stderr",
     "output_type": "stream",
     "text": [
      "2023-04-14 20:13:47.383470: I tensorflow/core/kernels/data/shuffle_dataset_op.cc:392] Filling up shuffle buffer (this may take a while): 754489 of 1166607\n",
      "2023-04-14 20:13:57.383435: I tensorflow/core/kernels/data/shuffle_dataset_op.cc:392] Filling up shuffle buffer (this may take a while): 1057946 of 1166607\n"
     ]
    },
    {
     "name": "stdout",
     "output_type": "stream",
     "text": [
      "   36/11667 [..............................] - ETA: 51s - loss: 0.1854 - accuracy: 0.9231   "
     ]
    },
    {
     "name": "stderr",
     "output_type": "stream",
     "text": [
      "2023-04-14 20:13:59.235733: I tensorflow/core/kernels/data/shuffle_dataset_op.cc:417] Shuffle buffer filled.\n"
     ]
    },
    {
     "name": "stdout",
     "output_type": "stream",
     "text": [
      "11667/11667 [==============================] - 89s 6ms/step - loss: 0.1899 - accuracy: 0.9201 - val_loss: 0.1821 - val_accuracy: 0.9232\n",
      "Epoch 6/50\n"
     ]
    },
    {
     "name": "stderr",
     "output_type": "stream",
     "text": [
      "2023-04-14 20:16:09.371360: I tensorflow/core/kernels/data/shuffle_dataset_op.cc:392] Filling up shuffle buffer (this may take a while): 888053 of 1166607\n",
      "2023-04-14 20:16:19.371503: I tensorflow/core/kernels/data/shuffle_dataset_op.cc:392] Filling up shuffle buffer (this may take a while): 1086735 of 1166607\n"
     ]
    },
    {
     "name": "stdout",
     "output_type": "stream",
     "text": [
      "   30/11667 [..............................] - ETA: 1:06 - loss: 0.1847 - accuracy: 0.9230  "
     ]
    },
    {
     "name": "stderr",
     "output_type": "stream",
     "text": [
      "2023-04-14 20:16:20.838893: I tensorflow/core/kernels/data/shuffle_dataset_op.cc:417] Shuffle buffer filled.\n"
     ]
    },
    {
     "name": "stdout",
     "output_type": "stream",
     "text": [
      "11667/11667 [==============================] - 89s 6ms/step - loss: 0.1823 - accuracy: 0.9235 - val_loss: 0.1762 - val_accuracy: 0.9248\n",
      "Epoch 7/50\n"
     ]
    },
    {
     "name": "stderr",
     "output_type": "stream",
     "text": [
      "2023-04-14 20:17:38.854171: I tensorflow/core/kernels/data/shuffle_dataset_op.cc:392] Filling up shuffle buffer (this may take a while): 819063 of 1166607\n",
      "2023-04-14 20:17:48.854188: I tensorflow/core/kernels/data/shuffle_dataset_op.cc:392] Filling up shuffle buffer (this may take a while): 1153991 of 1166607\n"
     ]
    },
    {
     "name": "stdout",
     "output_type": "stream",
     "text": [
      "   34/11667 [..............................] - ETA: 55s - loss: 0.1747 - accuracy: 0.9250   "
     ]
    },
    {
     "name": "stderr",
     "output_type": "stream",
     "text": [
      "2023-04-14 20:17:49.079006: I tensorflow/core/kernels/data/shuffle_dataset_op.cc:417] Shuffle buffer filled.\n"
     ]
    },
    {
     "name": "stdout",
     "output_type": "stream",
     "text": [
      "11667/11667 [==============================] - 87s 6ms/step - loss: 0.1766 - accuracy: 0.9260 - val_loss: 0.1733 - val_accuracy: 0.9278\n",
      "Epoch 8/50\n"
     ]
    },
    {
     "name": "stderr",
     "output_type": "stream",
     "text": [
      "2023-04-14 20:19:06.387771: I tensorflow/core/kernels/data/shuffle_dataset_op.cc:392] Filling up shuffle buffer (this may take a while): 810539 of 1166607\n",
      "2023-04-14 20:19:16.387737: I tensorflow/core/kernels/data/shuffle_dataset_op.cc:392] Filling up shuffle buffer (this may take a while): 1032795 of 1166607\n"
     ]
    },
    {
     "name": "stdout",
     "output_type": "stream",
     "text": [
      "   31/11667 [..............................] - ETA: 1:01 - loss: 0.1751 - accuracy: 0.9284"
     ]
    },
    {
     "name": "stderr",
     "output_type": "stream",
     "text": [
      "2023-04-14 20:19:18.720722: I tensorflow/core/kernels/data/shuffle_dataset_op.cc:417] Shuffle buffer filled.\n"
     ]
    },
    {
     "name": "stdout",
     "output_type": "stream",
     "text": [
      "11667/11667 [==============================] - 89s 6ms/step - loss: 0.1716 - accuracy: 0.9282 - val_loss: 0.1714 - val_accuracy: 0.9291\n",
      "Epoch 9/50\n"
     ]
    },
    {
     "name": "stderr",
     "output_type": "stream",
     "text": [
      "2023-04-14 20:20:35.810980: I tensorflow/core/kernels/data/shuffle_dataset_op.cc:392] Filling up shuffle buffer (this may take a while): 811261 of 1166607\n",
      "2023-04-14 20:20:45.811007: I tensorflow/core/kernels/data/shuffle_dataset_op.cc:392] Filling up shuffle buffer (this may take a while): 1030163 of 1166607\n"
     ]
    },
    {
     "name": "stdout",
     "output_type": "stream",
     "text": [
      "   19/11667 [..............................] - ETA: 1:40 - loss: 0.1752 - accuracy: 0.9305"
     ]
    },
    {
     "name": "stderr",
     "output_type": "stream",
     "text": [
      "2023-04-14 20:20:48.078825: I tensorflow/core/kernels/data/shuffle_dataset_op.cc:417] Shuffle buffer filled.\n"
     ]
    },
    {
     "name": "stdout",
     "output_type": "stream",
     "text": [
      "11667/11667 [==============================] - 90s 6ms/step - loss: 0.1687 - accuracy: 0.9296 - val_loss: 0.1664 - val_accuracy: 0.9313\n",
      "Epoch 10/50\n"
     ]
    },
    {
     "name": "stderr",
     "output_type": "stream",
     "text": [
      "2023-04-14 20:22:06.356953: I tensorflow/core/kernels/data/shuffle_dataset_op.cc:392] Filling up shuffle buffer (this may take a while): 688935 of 1166607\n",
      "2023-04-14 20:22:16.356916: I tensorflow/core/kernels/data/shuffle_dataset_op.cc:392] Filling up shuffle buffer (this may take a while): 993306 of 1166607\n"
     ]
    },
    {
     "name": "stdout",
     "output_type": "stream",
     "text": [
      "   36/11667 [..............................] - ETA: 51s - loss: 0.1712 - accuracy: 0.9278   "
     ]
    },
    {
     "name": "stderr",
     "output_type": "stream",
     "text": [
      "2023-04-14 20:22:19.147261: I tensorflow/core/kernels/data/shuffle_dataset_op.cc:417] Shuffle buffer filled.\n"
     ]
    },
    {
     "name": "stdout",
     "output_type": "stream",
     "text": [
      "11667/11667 [==============================] - 90s 6ms/step - loss: 0.1660 - accuracy: 0.9308 - val_loss: 0.1640 - val_accuracy: 0.9347\n",
      "Epoch 11/50\n"
     ]
    },
    {
     "name": "stderr",
     "output_type": "stream",
     "text": [
      "2023-04-14 20:23:36.406588: I tensorflow/core/kernels/data/shuffle_dataset_op.cc:392] Filling up shuffle buffer (this may take a while): 777999 of 1166607\n",
      "2023-04-14 20:23:46.406594: I tensorflow/core/kernels/data/shuffle_dataset_op.cc:392] Filling up shuffle buffer (this may take a while): 1062560 of 1166607\n"
     ]
    },
    {
     "name": "stdout",
     "output_type": "stream",
     "text": [
      "    8/11667 [..............................] - ETA: 1:54 - loss: 0.1649 - accuracy: 0.9312    "
     ]
    },
    {
     "name": "stderr",
     "output_type": "stream",
     "text": [
      "2023-04-14 20:23:47.848861: I tensorflow/core/kernels/data/shuffle_dataset_op.cc:417] Shuffle buffer filled.\n"
     ]
    },
    {
     "name": "stdout",
     "output_type": "stream",
     "text": [
      "11667/11667 [==============================] - 84s 5ms/step - loss: 0.1638 - accuracy: 0.9317 - val_loss: 0.1554 - val_accuracy: 0.9349\n",
      "Epoch 12/50\n"
     ]
    },
    {
     "name": "stderr",
     "output_type": "stream",
     "text": [
      "2023-04-14 20:25:00.419439: I tensorflow/core/kernels/data/shuffle_dataset_op.cc:392] Filling up shuffle buffer (this may take a while): 779488 of 1166607\n",
      "2023-04-14 20:25:10.419445: I tensorflow/core/kernels/data/shuffle_dataset_op.cc:392] Filling up shuffle buffer (this may take a while): 1075012 of 1166607\n"
     ]
    },
    {
     "name": "stdout",
     "output_type": "stream",
     "text": [
      "   40/11667 [..............................] - ETA: 47s - loss: 0.1597 - accuracy: 0.9367   "
     ]
    },
    {
     "name": "stderr",
     "output_type": "stream",
     "text": [
      "2023-04-14 20:25:11.867500: I tensorflow/core/kernels/data/shuffle_dataset_op.cc:417] Shuffle buffer filled.\n"
     ]
    },
    {
     "name": "stdout",
     "output_type": "stream",
     "text": [
      "11667/11667 [==============================] - 89s 6ms/step - loss: 0.1613 - accuracy: 0.9328 - val_loss: 0.1599 - val_accuracy: 0.9315\n",
      "Epoch 13/50\n"
     ]
    },
    {
     "name": "stderr",
     "output_type": "stream",
     "text": [
      "2023-04-14 20:26:29.189301: I tensorflow/core/kernels/data/shuffle_dataset_op.cc:392] Filling up shuffle buffer (this may take a while): 777446 of 1166607\n",
      "2023-04-14 20:26:39.189310: I tensorflow/core/kernels/data/shuffle_dataset_op.cc:392] Filling up shuffle buffer (this may take a while): 1094959 of 1166607\n"
     ]
    },
    {
     "name": "stdout",
     "output_type": "stream",
     "text": [
      "   36/11667 [..............................] - ETA: 53s - loss: 0.1554 - accuracy: 0.9336   "
     ]
    },
    {
     "name": "stderr",
     "output_type": "stream",
     "text": [
      "2023-04-14 20:26:40.279153: I tensorflow/core/kernels/data/shuffle_dataset_op.cc:417] Shuffle buffer filled.\n"
     ]
    },
    {
     "name": "stdout",
     "output_type": "stream",
     "text": [
      "11667/11667 [==============================] - 90s 6ms/step - loss: 0.1595 - accuracy: 0.9336 - val_loss: 0.1551 - val_accuracy: 0.9325\n",
      "Epoch 14/50\n"
     ]
    },
    {
     "name": "stderr",
     "output_type": "stream",
     "text": [
      "2023-04-14 20:28:51.101940: I tensorflow/core/kernels/data/shuffle_dataset_op.cc:392] Filling up shuffle buffer (this may take a while): 692084 of 1166607\n",
      "2023-04-14 20:29:01.112131: I tensorflow/core/kernels/data/shuffle_dataset_op.cc:392] Filling up shuffle buffer (this may take a while): 1020307 of 1166607\n"
     ]
    },
    {
     "name": "stdout",
     "output_type": "stream",
     "text": [
      "   35/11667 [..............................] - ETA: 54s - loss: 0.1457 - accuracy: 0.9383   "
     ]
    },
    {
     "name": "stderr",
     "output_type": "stream",
     "text": [
      "2023-04-14 20:29:03.965416: I tensorflow/core/kernels/data/shuffle_dataset_op.cc:417] Shuffle buffer filled.\n"
     ]
    },
    {
     "name": "stdout",
     "output_type": "stream",
     "text": [
      "11667/11667 [==============================] - 86s 5ms/step - loss: 0.1580 - accuracy: 0.9342 - val_loss: 0.1555 - val_accuracy: 0.9364\n",
      "Epoch 15/50\n"
     ]
    },
    {
     "name": "stderr",
     "output_type": "stream",
     "text": [
      "2023-04-14 20:30:17.342274: I tensorflow/core/kernels/data/shuffle_dataset_op.cc:392] Filling up shuffle buffer (this may take a while): 779490 of 1166607\n",
      "2023-04-14 20:30:27.342263: I tensorflow/core/kernels/data/shuffle_dataset_op.cc:392] Filling up shuffle buffer (this may take a while): 1081370 of 1166607\n"
     ]
    },
    {
     "name": "stdout",
     "output_type": "stream",
     "text": [
      "   35/11667 [..............................] - ETA: 55s - loss: 0.1874 - accuracy: 0.9246   "
     ]
    },
    {
     "name": "stderr",
     "output_type": "stream",
     "text": [
      "2023-04-14 20:30:29.176138: I tensorflow/core/kernels/data/shuffle_dataset_op.cc:417] Shuffle buffer filled.\n"
     ]
    },
    {
     "name": "stdout",
     "output_type": "stream",
     "text": [
      "11667/11667 [==============================] - 87s 6ms/step - loss: 0.1569 - accuracy: 0.9347 - val_loss: 0.1600 - val_accuracy: 0.9316\n",
      "Epoch 16/50\n"
     ]
    },
    {
     "name": "stderr",
     "output_type": "stream",
     "text": [
      "2023-04-14 20:31:43.924527: I tensorflow/core/kernels/data/shuffle_dataset_op.cc:392] Filling up shuffle buffer (this may take a while): 763541 of 1166607\n",
      "2023-04-14 20:31:53.924518: I tensorflow/core/kernels/data/shuffle_dataset_op.cc:392] Filling up shuffle buffer (this may take a while): 1135162 of 1166607\n"
     ]
    },
    {
     "name": "stdout",
     "output_type": "stream",
     "text": [
      "   31/11667 [..............................] - ETA: 59s - loss: 0.1592 - accuracy: 0.9365 "
     ]
    },
    {
     "name": "stderr",
     "output_type": "stream",
     "text": [
      "2023-04-14 20:31:54.446810: I tensorflow/core/kernels/data/shuffle_dataset_op.cc:417] Shuffle buffer filled.\n"
     ]
    },
    {
     "name": "stdout",
     "output_type": "stream",
     "text": [
      "11667/11667 [==============================] - 86s 6ms/step - loss: 0.1546 - accuracy: 0.9357 - val_loss: 0.1518 - val_accuracy: 0.9373\n",
      "Epoch 17/50\n"
     ]
    },
    {
     "name": "stderr",
     "output_type": "stream",
     "text": [
      "2023-04-14 20:33:09.808106: I tensorflow/core/kernels/data/shuffle_dataset_op.cc:392] Filling up shuffle buffer (this may take a while): 716338 of 1166607\n",
      "2023-04-14 20:33:19.814062: I tensorflow/core/kernels/data/shuffle_dataset_op.cc:392] Filling up shuffle buffer (this may take a while): 1076920 of 1166607\n"
     ]
    },
    {
     "name": "stdout",
     "output_type": "stream",
     "text": [
      "   40/11667 [..............................] - ETA: 46s - loss: 0.1688 - accuracy: 0.9243   "
     ]
    },
    {
     "name": "stderr",
     "output_type": "stream",
     "text": [
      "2023-04-14 20:33:22.145697: I tensorflow/core/kernels/data/shuffle_dataset_op.cc:417] Shuffle buffer filled.\n"
     ]
    },
    {
     "name": "stdout",
     "output_type": "stream",
     "text": [
      "11667/11667 [==============================] - 90s 6ms/step - loss: 0.1537 - accuracy: 0.9361 - val_loss: 0.1493 - val_accuracy: 0.9381\n",
      "Epoch 18/50\n"
     ]
    },
    {
     "name": "stderr",
     "output_type": "stream",
     "text": [
      "2023-04-14 20:34:40.238802: I tensorflow/core/kernels/data/shuffle_dataset_op.cc:392] Filling up shuffle buffer (this may take a while): 642842 of 1166607\n"
     ]
    },
    {
     "name": "stdout",
     "output_type": "stream",
     "text": [
      "   32/11667 [..............................] - ETA: 59s - loss: 0.1403 - accuracy: 0.9388 "
     ]
    },
    {
     "name": "stderr",
     "output_type": "stream",
     "text": [
      "2023-04-14 20:34:48.247493: I tensorflow/core/kernels/data/shuffle_dataset_op.cc:417] Shuffle buffer filled.\n"
     ]
    },
    {
     "name": "stdout",
     "output_type": "stream",
     "text": [
      "11667/11667 [==============================] - 86s 6ms/step - loss: 0.1523 - accuracy: 0.9368 - val_loss: 0.1483 - val_accuracy: 0.9352\n",
      "Epoch 19/50\n"
     ]
    },
    {
     "name": "stderr",
     "output_type": "stream",
     "text": [
      "2023-04-14 20:36:05.850744: I tensorflow/core/kernels/data/shuffle_dataset_op.cc:392] Filling up shuffle buffer (this may take a while): 742554 of 1166607\n",
      "2023-04-14 20:36:15.850705: I tensorflow/core/kernels/data/shuffle_dataset_op.cc:392] Filling up shuffle buffer (this may take a while): 1148592 of 1166607\n"
     ]
    },
    {
     "name": "stdout",
     "output_type": "stream",
     "text": [
      "   38/11667 [..............................] - ETA: 48s - loss: 0.1616 - accuracy: 0.9326   "
     ]
    },
    {
     "name": "stderr",
     "output_type": "stream",
     "text": [
      "2023-04-14 20:36:16.239012: I tensorflow/core/kernels/data/shuffle_dataset_op.cc:417] Shuffle buffer filled.\n"
     ]
    },
    {
     "name": "stdout",
     "output_type": "stream",
     "text": [
      "11667/11667 [==============================] - 84s 5ms/step - loss: 0.1520 - accuracy: 0.9371 - val_loss: 0.1563 - val_accuracy: 0.9349\n",
      "Epoch 20/50\n"
     ]
    },
    {
     "name": "stderr",
     "output_type": "stream",
     "text": [
      "2023-04-14 20:37:30.241726: I tensorflow/core/kernels/data/shuffle_dataset_op.cc:392] Filling up shuffle buffer (this may take a while): 651837 of 1166607\n"
     ]
    },
    {
     "name": "stdout",
     "output_type": "stream",
     "text": [
      "   37/11667 [..............................] - ETA: 50s - loss: 0.1548 - accuracy: 0.9349   "
     ]
    },
    {
     "name": "stderr",
     "output_type": "stream",
     "text": [
      "2023-04-14 20:37:39.339516: I tensorflow/core/kernels/data/shuffle_dataset_op.cc:417] Shuffle buffer filled.\n"
     ]
    },
    {
     "name": "stdout",
     "output_type": "stream",
     "text": [
      "11667/11667 [==============================] - 87s 6ms/step - loss: 0.1506 - accuracy: 0.9373 - val_loss: 0.1483 - val_accuracy: 0.9373\n",
      "Epoch 21/50\n"
     ]
    },
    {
     "name": "stderr",
     "output_type": "stream",
     "text": [
      "2023-04-14 20:38:56.972439: I tensorflow/core/kernels/data/shuffle_dataset_op.cc:392] Filling up shuffle buffer (this may take a while): 804160 of 1166607\n",
      "2023-04-14 20:39:06.972434: I tensorflow/core/kernels/data/shuffle_dataset_op.cc:392] Filling up shuffle buffer (this may take a while): 1142682 of 1166607\n"
     ]
    },
    {
     "name": "stdout",
     "output_type": "stream",
     "text": [
      "   35/11667 [..............................] - ETA: 53s - loss: 0.1366 - accuracy: 0.9443   "
     ]
    },
    {
     "name": "stderr",
     "output_type": "stream",
     "text": [
      "2023-04-14 20:39:07.517919: I tensorflow/core/kernels/data/shuffle_dataset_op.cc:417] Shuffle buffer filled.\n"
     ]
    },
    {
     "name": "stdout",
     "output_type": "stream",
     "text": [
      "11667/11667 [==============================] - 83s 5ms/step - loss: 0.1494 - accuracy: 0.9382 - val_loss: 0.1469 - val_accuracy: 0.9394\n",
      "Epoch 22/50\n"
     ]
    },
    {
     "name": "stderr",
     "output_type": "stream",
     "text": [
      "2023-04-14 20:41:18.883986: I tensorflow/core/kernels/data/shuffle_dataset_op.cc:392] Filling up shuffle buffer (this may take a while): 832788 of 1166607\n"
     ]
    },
    {
     "name": "stdout",
     "output_type": "stream",
     "text": [
      "   31/11667 [..............................] - ETA: 1:02 - loss: 0.1567 - accuracy: 0.9358 "
     ]
    },
    {
     "name": "stderr",
     "output_type": "stream",
     "text": [
      "2023-04-14 20:41:28.874503: I tensorflow/core/kernels/data/shuffle_dataset_op.cc:417] Shuffle buffer filled.\n"
     ]
    },
    {
     "name": "stdout",
     "output_type": "stream",
     "text": [
      "11667/11667 [==============================] - 85s 6ms/step - loss: 0.1489 - accuracy: 0.9383 - val_loss: 0.1440 - val_accuracy: 0.9396\n",
      "Epoch 23/50\n"
     ]
    },
    {
     "name": "stderr",
     "output_type": "stream",
     "text": [
      "2023-04-14 20:42:43.948479: I tensorflow/core/kernels/data/shuffle_dataset_op.cc:392] Filling up shuffle buffer (this may take a while): 814546 of 1166607\n"
     ]
    },
    {
     "name": "stdout",
     "output_type": "stream",
     "text": [
      "   42/11667 [..............................] - ETA: 43s - loss: 0.1461 - accuracy: 0.9376   "
     ]
    },
    {
     "name": "stderr",
     "output_type": "stream",
     "text": [
      "2023-04-14 20:42:52.922564: I tensorflow/core/kernels/data/shuffle_dataset_op.cc:417] Shuffle buffer filled.\n"
     ]
    },
    {
     "name": "stdout",
     "output_type": "stream",
     "text": [
      "11667/11667 [==============================] - 83s 6ms/step - loss: 0.1486 - accuracy: 0.9387 - val_loss: 0.1432 - val_accuracy: 0.9400\n",
      "Epoch 24/50\n"
     ]
    },
    {
     "name": "stderr",
     "output_type": "stream",
     "text": [
      "2023-04-14 20:44:07.216860: I tensorflow/core/kernels/data/shuffle_dataset_op.cc:392] Filling up shuffle buffer (this may take a while): 831311 of 1166607\n",
      "2023-04-14 20:44:17.218050: I tensorflow/core/kernels/data/shuffle_dataset_op.cc:392] Filling up shuffle buffer (this may take a while): 1097268 of 1166607\n"
     ]
    },
    {
     "name": "stdout",
     "output_type": "stream",
     "text": [
      "   40/11667 [..............................] - ETA: 46s - loss: 0.1447 - accuracy: 0.9370   "
     ]
    },
    {
     "name": "stderr",
     "output_type": "stream",
     "text": [
      "2023-04-14 20:44:18.317862: I tensorflow/core/kernels/data/shuffle_dataset_op.cc:417] Shuffle buffer filled.\n"
     ]
    },
    {
     "name": "stdout",
     "output_type": "stream",
     "text": [
      "11667/11667 [==============================] - 86s 6ms/step - loss: 0.1472 - accuracy: 0.9390 - val_loss: 0.1431 - val_accuracy: 0.9416\n",
      "Epoch 25/50\n"
     ]
    },
    {
     "name": "stderr",
     "output_type": "stream",
     "text": [
      "2023-04-14 20:46:29.189741: I tensorflow/core/kernels/data/shuffle_dataset_op.cc:392] Filling up shuffle buffer (this may take a while): 714877 of 1166607\n",
      "2023-04-14 20:46:39.189735: I tensorflow/core/kernels/data/shuffle_dataset_op.cc:392] Filling up shuffle buffer (this may take a while): 1083368 of 1166607\n"
     ]
    },
    {
     "name": "stdout",
     "output_type": "stream",
     "text": [
      "   32/11667 [..............................] - ETA: 59s - loss: 0.1364 - accuracy: 0.9428   "
     ]
    },
    {
     "name": "stderr",
     "output_type": "stream",
     "text": [
      "2023-04-14 20:46:40.796238: I tensorflow/core/kernels/data/shuffle_dataset_op.cc:417] Shuffle buffer filled.\n"
     ]
    },
    {
     "name": "stdout",
     "output_type": "stream",
     "text": [
      "11667/11667 [==============================] - 93s 6ms/step - loss: 0.1464 - accuracy: 0.9394 - val_loss: 0.1455 - val_accuracy: 0.9394\n",
      "Epoch 26/50\n"
     ]
    },
    {
     "name": "stderr",
     "output_type": "stream",
     "text": [
      "2023-04-14 20:48:02.645957: I tensorflow/core/kernels/data/shuffle_dataset_op.cc:392] Filling up shuffle buffer (this may take a while): 711266 of 1166607\n",
      "2023-04-14 20:48:12.645891: I tensorflow/core/kernels/data/shuffle_dataset_op.cc:392] Filling up shuffle buffer (this may take a while): 965428 of 1166607\n"
     ]
    },
    {
     "name": "stdout",
     "output_type": "stream",
     "text": [
      "   34/11667 [..............................] - ETA: 55s - loss: 0.1512 - accuracy: 0.9412   "
     ]
    },
    {
     "name": "stderr",
     "output_type": "stream",
     "text": [
      "2023-04-14 20:48:15.903368: I tensorflow/core/kernels/data/shuffle_dataset_op.cc:417] Shuffle buffer filled.\n"
     ]
    },
    {
     "name": "stdout",
     "output_type": "stream",
     "text": [
      "11667/11667 [==============================] - 96s 6ms/step - loss: 0.1462 - accuracy: 0.9397 - val_loss: 0.1471 - val_accuracy: 0.9427\n",
      "Epoch 27/50\n"
     ]
    },
    {
     "name": "stderr",
     "output_type": "stream",
     "text": [
      "2023-04-14 20:49:38.280529: I tensorflow/core/kernels/data/shuffle_dataset_op.cc:392] Filling up shuffle buffer (this may take a while): 625807 of 1166607\n",
      "2023-04-14 20:49:48.423089: I tensorflow/core/kernels/data/shuffle_dataset_op.cc:392] Filling up shuffle buffer (this may take a while): 1076865 of 1166607\n"
     ]
    },
    {
     "name": "stdout",
     "output_type": "stream",
     "text": [
      "   32/11667 [..............................] - ETA: 59s - loss: 0.1417 - accuracy: 0.9397   "
     ]
    },
    {
     "name": "stderr",
     "output_type": "stream",
     "text": [
      "2023-04-14 20:49:52.589516: I tensorflow/core/kernels/data/shuffle_dataset_op.cc:417] Shuffle buffer filled.\n"
     ]
    },
    {
     "name": "stdout",
     "output_type": "stream",
     "text": [
      "11667/11667 [==============================] - 88s 5ms/step - loss: 0.1453 - accuracy: 0.9398 - val_loss: 0.1427 - val_accuracy: 0.9405\n",
      "Epoch 28/50\n"
     ]
    },
    {
     "name": "stderr",
     "output_type": "stream",
     "text": [
      "2023-04-14 20:51:06.312334: I tensorflow/core/kernels/data/shuffle_dataset_op.cc:392] Filling up shuffle buffer (this may take a while): 738225 of 1166607\n",
      "2023-04-14 20:51:16.312310: I tensorflow/core/kernels/data/shuffle_dataset_op.cc:392] Filling up shuffle buffer (this may take a while): 1027075 of 1166607\n"
     ]
    },
    {
     "name": "stdout",
     "output_type": "stream",
     "text": [
      "   40/11667 [..............................] - ETA: 44s - loss: 0.1505 - accuracy: 0.9362   "
     ]
    },
    {
     "name": "stderr",
     "output_type": "stream",
     "text": [
      "2023-04-14 20:51:18.488124: I tensorflow/core/kernels/data/shuffle_dataset_op.cc:417] Shuffle buffer filled.\n"
     ]
    },
    {
     "name": "stdout",
     "output_type": "stream",
     "text": [
      "11667/11667 [==============================] - 86s 5ms/step - loss: 0.1449 - accuracy: 0.9401 - val_loss: 0.1444 - val_accuracy: 0.9399\n",
      "Epoch 29/50\n"
     ]
    },
    {
     "name": "stderr",
     "output_type": "stream",
     "text": [
      "2023-04-14 20:53:28.228809: I tensorflow/core/kernels/data/shuffle_dataset_op.cc:392] Filling up shuffle buffer (this may take a while): 824847 of 1166607\n",
      "2023-04-14 20:53:38.228802: I tensorflow/core/kernels/data/shuffle_dataset_op.cc:392] Filling up shuffle buffer (this may take a while): 1080771 of 1166607\n"
     ]
    },
    {
     "name": "stdout",
     "output_type": "stream",
     "text": [
      "   38/11667 [..............................] - ETA: 48s - loss: 0.1448 - accuracy: 0.9400   "
     ]
    },
    {
     "name": "stderr",
     "output_type": "stream",
     "text": [
      "2023-04-14 20:53:39.780862: I tensorflow/core/kernels/data/shuffle_dataset_op.cc:417] Shuffle buffer filled.\n"
     ]
    },
    {
     "name": "stdout",
     "output_type": "stream",
     "text": [
      "11667/11667 [==============================] - 87s 6ms/step - loss: 0.1443 - accuracy: 0.9405 - val_loss: 0.1424 - val_accuracy: 0.9417\n",
      "Epoch 30/50\n"
     ]
    },
    {
     "name": "stderr",
     "output_type": "stream",
     "text": [
      "2023-04-14 20:54:54.858494: I tensorflow/core/kernels/data/shuffle_dataset_op.cc:392] Filling up shuffle buffer (this may take a while): 759427 of 1166607\n",
      "2023-04-14 20:55:04.858481: I tensorflow/core/kernels/data/shuffle_dataset_op.cc:392] Filling up shuffle buffer (this may take a while): 1010862 of 1166607\n"
     ]
    },
    {
     "name": "stdout",
     "output_type": "stream",
     "text": [
      "   30/11667 [..............................] - ETA: 1:02 - loss: 0.1380 - accuracy: 0.9397"
     ]
    },
    {
     "name": "stderr",
     "output_type": "stream",
     "text": [
      "2023-04-14 20:55:07.376613: I tensorflow/core/kernels/data/shuffle_dataset_op.cc:417] Shuffle buffer filled.\n"
     ]
    },
    {
     "name": "stdout",
     "output_type": "stream",
     "text": [
      " 1660/11667 [===>..........................] - ETA: 47s - loss: 0.1420 - accuracy: 0.9412"
     ]
    }
   ],
   "source": [
    "model = tf.keras.Sequential([\n",
    "  feature_layer,\n",
    "  layers.Dense(128, activation='relu'),\n",
    "  layers.Dense(128, activation='relu'),\n",
    "  layers.Dropout(.1),\n",
    "  layers.Dense(1)\n",
    "])\n",
    "\n",
    "model.compile(optimizer='adam',\n",
    "              loss=tf.keras.losses.BinaryCrossentropy(from_logits=True),\n",
    "              metrics=['accuracy'])\n",
    "\n",
    "my_callbacks = [\n",
    "    tf.keras.callbacks.EarlyStopping(patience=2),\n",
    "    tf.keras.callbacks.ModelCheckpoint(filepath='model.{epoch:02d}-{val_loss:.2f}.h5'),\n",
    "    tf.keras.callbacks.TensorBoard(log_dir='/home/jiayi/5moU/Code/extract_tombo/log/TF_Dense_logs'),\n",
    "]\n",
    "\n",
    "\n",
    "log_dir = \"logs/fit/\" + datetime.datetime.now().strftime(\"%Y%m%d-%H%M%S\")\n",
    "tensorboard_callback = tf.keras.callbacks.TensorBoard(log_dir=log_dir, histogram_freq=1)\n",
    "\n",
    "history=model.fit(train_ds,\n",
    "          validation_data=val_ds,\n",
    "          epochs=50,\n",
    "         callbacks= [tensorboard_callback])"
   ]
  },
  {
   "cell_type": "code",
   "execution_count": 17,
   "id": "4d229ef6",
   "metadata": {},
   "outputs": [
    {
     "ename": "NameError",
     "evalue": "name 'history' is not defined",
     "output_type": "error",
     "traceback": [
      "\u001b[0;31m---------------------------------------------------------------------------\u001b[0m",
      "\u001b[0;31mNameError\u001b[0m                                 Traceback (most recent call last)",
      "Cell \u001b[0;32mIn[17], line 2\u001b[0m\n\u001b[1;32m      1\u001b[0m \u001b[38;5;28;01mfrom\u001b[39;00m \u001b[38;5;21;01mmatplotlib\u001b[39;00m \u001b[38;5;28;01mimport\u001b[39;00m pyplot \u001b[38;5;28;01mas\u001b[39;00m plt\n\u001b[0;32m----> 2\u001b[0m history_dict \u001b[38;5;241m=\u001b[39m \u001b[43mhistory\u001b[49m\u001b[38;5;241m.\u001b[39mhistory\n\u001b[1;32m      4\u001b[0m acc \u001b[38;5;241m=\u001b[39m history_dict[\u001b[38;5;124m'\u001b[39m\u001b[38;5;124maccuracy\u001b[39m\u001b[38;5;124m'\u001b[39m]\n\u001b[1;32m      5\u001b[0m val_acc \u001b[38;5;241m=\u001b[39m history_dict[\u001b[38;5;124m'\u001b[39m\u001b[38;5;124mval_accuracy\u001b[39m\u001b[38;5;124m'\u001b[39m]\n",
      "\u001b[0;31mNameError\u001b[0m: name 'history' is not defined"
     ]
    }
   ],
   "source": [
    "from matplotlib import pyplot as plt\n",
    "history_dict = history.history\n",
    "\n",
    "acc = history_dict['accuracy']\n",
    "val_acc = history_dict['val_accuracy']\n",
    "loss = history_dict['loss']\n",
    "val_loss = history_dict['val_loss']\n",
    "epochs = history.epoch\n",
    "\n",
    "fig = plt.figure(figsize=(18,6))\n",
    "\n",
    "plt.subplot2grid((1,2),(0,0),colspan=1,rowspan=1)\n",
    "plt.plot(epochs, acc, 'r', label='training accuracy')\n",
    "plt.plot(epochs, val_acc, 'b', label='validation accuracy')\n",
    "plt.title('Training and validation accuracy', size=18)\n",
    "plt.xlabel('Epochs', size=14)\n",
    "plt.ylabel('Accuracy')\n",
    "plt.legend(prop={'size': 14})\n",
    "\n",
    "plt.subplot2grid((1,2),(0,1),colspan=1,rowspan=1)\n",
    "plt.plot(epochs, loss, 'r', label='training loss')\n",
    "plt.plot(epochs, val_loss, 'b', label='validation loss')\n",
    "plt.title('Training and validation loss', size=18)\n",
    "plt.xlabel('Epochs', size=14)\n",
    "plt.ylabel('Loss')\n",
    "plt.legend(prop={'size': 14})\n",
    "\n",
    "plt.show()\n",
    "\n",
    "\n",
    "fig.savefig('/home/jiayi/5moU/Results/all_sig_trainlog.png')"
   ]
  },
  {
   "cell_type": "code",
   "execution_count": 18,
   "id": "7002f810",
   "metadata": {},
   "outputs": [],
   "source": [
    "# https://www.tensorflow.org/tutorials/structured_data/imbalanced_data\n",
    "from tensorflow import keras\n",
    "\n",
    "METRICS = [\n",
    "      keras.metrics.TruePositives(name='tp'),\n",
    "      keras.metrics.FalsePositives(name='fp'),\n",
    "      keras.metrics.TrueNegatives(name='tn'),\n",
    "      keras.metrics.FalseNegatives(name='fn'), \n",
    "      keras.metrics.BinaryAccuracy(name='accuracy'),\n",
    "      keras.metrics.Precision(name='precision'),\n",
    "      keras.metrics.Recall(name='recall'),\n",
    "      keras.metrics.AUC(name='auc'),\n",
    "      keras.metrics.AUC(name='prc', curve='PR'), # precision-recall curve\n",
    "]"
   ]
  },
  {
   "cell_type": "code",
   "execution_count": 19,
   "id": "03c3fd3b",
   "metadata": {},
   "outputs": [
    {
     "name": "stdout",
     "output_type": "stream",
     "text": [
      "WARNING:tensorflow:From /home/jiayi/miniconda3/lib/python3.9/site-packages/keras/feature_column/base_feature_layer.py:129: serialize_feature_column (from tensorflow.python.feature_column.serialization) is deprecated and will be removed in a future version.\n",
      "Instructions for updating:\n",
      "Use Keras preprocessing layers instead, either directly or via the `tf.keras.utils.FeatureSpace` utility. Each of `tf.feature_column.*` has a functional equivalent in `tf.keras.layers` for feature preprocessing when training a Keras model.\n",
      "Epoch 1/50\n",
      "WARNING:tensorflow:Layers in a Sequential model should only have a single input tensor. Received: inputs={'indx': <tf.Tensor 'IteratorGetNext:5' shape=(None,) dtype=int64>, 'kmer': <tf.Tensor 'IteratorGetNext:6' shape=(None,) dtype=string>, 'mean_1': <tf.Tensor 'IteratorGetNext:12' shape=(None,) dtype=float64>, 'mean_2': <tf.Tensor 'IteratorGetNext:13' shape=(None,) dtype=float64>, 'mean_3': <tf.Tensor 'IteratorGetNext:14' shape=(None,) dtype=float64>, 'mean_4': <tf.Tensor 'IteratorGetNext:15' shape=(None,) dtype=float64>, 'mean_5': <tf.Tensor 'IteratorGetNext:16' shape=(None,) dtype=float64>, 'std_1': <tf.Tensor 'IteratorGetNext:17' shape=(None,) dtype=float64>, 'std_2': <tf.Tensor 'IteratorGetNext:18' shape=(None,) dtype=float64>, 'std_3': <tf.Tensor 'IteratorGetNext:19' shape=(None,) dtype=float64>, 'std_4': <tf.Tensor 'IteratorGetNext:20' shape=(None,) dtype=float64>, 'std_5': <tf.Tensor 'IteratorGetNext:21' shape=(None,) dtype=float64>, 'mdintense_1': <tf.Tensor 'IteratorGetNext:7' shape=(None,) dtype=float64>, 'mdintense_2': <tf.Tensor 'IteratorGetNext:8' shape=(None,) dtype=float64>, 'mdintense_3': <tf.Tensor 'IteratorGetNext:9' shape=(None,) dtype=float64>, 'mdintense_4': <tf.Tensor 'IteratorGetNext:10' shape=(None,) dtype=float64>, 'mdintense_5': <tf.Tensor 'IteratorGetNext:11' shape=(None,) dtype=float64>, 'L-1': <tf.Tensor 'IteratorGetNext:0' shape=(None,) dtype=int64>, 'L-2': <tf.Tensor 'IteratorGetNext:1' shape=(None,) dtype=int64>, 'L-3': <tf.Tensor 'IteratorGetNext:2' shape=(None,) dtype=int64>, 'L-4': <tf.Tensor 'IteratorGetNext:3' shape=(None,) dtype=int64>, 'L-5': <tf.Tensor 'IteratorGetNext:4' shape=(None,) dtype=int64>}. Consider rewriting this model with the Functional API.\n"
     ]
    },
    {
     "name": "stderr",
     "output_type": "stream",
     "text": [
      "2023-04-22 13:23:28.974135: I tensorflow/core/common_runtime/executor.cc:1197] [/device:CPU:0] (DEBUG INFO) Executor start aborting (this does not indicate an error and you can ignore this message): INVALID_ARGUMENT: You must feed a value for placeholder tensor 'Placeholder/_3' with dtype int64 and shape [1166607]\n",
      "\t [[{{node Placeholder/_3}}]]\n",
      "2023-04-22 13:23:28.975015: I tensorflow/core/common_runtime/executor.cc:1197] [/device:CPU:0] (DEBUG INFO) Executor start aborting (this does not indicate an error and you can ignore this message): INVALID_ARGUMENT: You must feed a value for placeholder tensor 'Placeholder/_9' with dtype double and shape [1166607]\n",
      "\t [[{{node Placeholder/_9}}]]\n"
     ]
    },
    {
     "name": "stdout",
     "output_type": "stream",
     "text": [
      "WARNING:tensorflow:Layers in a Sequential model should only have a single input tensor. Received: inputs={'indx': <tf.Tensor 'IteratorGetNext:5' shape=(None,) dtype=int64>, 'kmer': <tf.Tensor 'IteratorGetNext:6' shape=(None,) dtype=string>, 'mean_1': <tf.Tensor 'IteratorGetNext:12' shape=(None,) dtype=float64>, 'mean_2': <tf.Tensor 'IteratorGetNext:13' shape=(None,) dtype=float64>, 'mean_3': <tf.Tensor 'IteratorGetNext:14' shape=(None,) dtype=float64>, 'mean_4': <tf.Tensor 'IteratorGetNext:15' shape=(None,) dtype=float64>, 'mean_5': <tf.Tensor 'IteratorGetNext:16' shape=(None,) dtype=float64>, 'std_1': <tf.Tensor 'IteratorGetNext:17' shape=(None,) dtype=float64>, 'std_2': <tf.Tensor 'IteratorGetNext:18' shape=(None,) dtype=float64>, 'std_3': <tf.Tensor 'IteratorGetNext:19' shape=(None,) dtype=float64>, 'std_4': <tf.Tensor 'IteratorGetNext:20' shape=(None,) dtype=float64>, 'std_5': <tf.Tensor 'IteratorGetNext:21' shape=(None,) dtype=float64>, 'mdintense_1': <tf.Tensor 'IteratorGetNext:7' shape=(None,) dtype=float64>, 'mdintense_2': <tf.Tensor 'IteratorGetNext:8' shape=(None,) dtype=float64>, 'mdintense_3': <tf.Tensor 'IteratorGetNext:9' shape=(None,) dtype=float64>, 'mdintense_4': <tf.Tensor 'IteratorGetNext:10' shape=(None,) dtype=float64>, 'mdintense_5': <tf.Tensor 'IteratorGetNext:11' shape=(None,) dtype=float64>, 'L-1': <tf.Tensor 'IteratorGetNext:0' shape=(None,) dtype=int64>, 'L-2': <tf.Tensor 'IteratorGetNext:1' shape=(None,) dtype=int64>, 'L-3': <tf.Tensor 'IteratorGetNext:2' shape=(None,) dtype=int64>, 'L-4': <tf.Tensor 'IteratorGetNext:3' shape=(None,) dtype=int64>, 'L-5': <tf.Tensor 'IteratorGetNext:4' shape=(None,) dtype=int64>}. Consider rewriting this model with the Functional API.\n"
     ]
    },
    {
     "name": "stderr",
     "output_type": "stream",
     "text": [
      "2023-04-22 13:23:40.894177: I tensorflow/core/kernels/data/shuffle_dataset_op.cc:392] Filling up shuffle buffer (this may take a while): 980698 of 1166607\n"
     ]
    },
    {
     "name": "stdout",
     "output_type": "stream",
     "text": [
      "\r",
      "    1/11667 [..............................] - ETA: 44:55:02 - loss: 2.9253 - tp: 7.0000 - fp: 37.0000 - tn: 52.0000 - fn: 4.0000 - accuracy: 0.5900 - precision: 0.1591 - recall: 0.6364 - auc: 0.6159 - prc: 0.1584"
     ]
    },
    {
     "name": "stderr",
     "output_type": "stream",
     "text": [
      "2023-04-22 13:23:42.721875: I tensorflow/core/kernels/data/shuffle_dataset_op.cc:417] Shuffle buffer filled.\n"
     ]
    },
    {
     "name": "stdout",
     "output_type": "stream",
     "text": [
      "11664/11667 [============================>.] - ETA: 0s - loss: 0.3035 - tp: 361.0000 - fp: 1349.0000 - tn: 1039124.0000 - fn: 125566.0000 - accuracy: 0.8912 - precision: 0.2111 - recall: 0.0029 - auc: 0.5075 - prc: 0.1180WARNING:tensorflow:Layers in a Sequential model should only have a single input tensor. Received: inputs={'indx': <tf.Tensor 'IteratorGetNext:5' shape=(None,) dtype=int64>, 'kmer': <tf.Tensor 'IteratorGetNext:6' shape=(None,) dtype=string>, 'mean_1': <tf.Tensor 'IteratorGetNext:12' shape=(None,) dtype=float64>, 'mean_2': <tf.Tensor 'IteratorGetNext:13' shape=(None,) dtype=float64>, 'mean_3': <tf.Tensor 'IteratorGetNext:14' shape=(None,) dtype=float64>, 'mean_4': <tf.Tensor 'IteratorGetNext:15' shape=(None,) dtype=float64>, 'mean_5': <tf.Tensor 'IteratorGetNext:16' shape=(None,) dtype=float64>, 'std_1': <tf.Tensor 'IteratorGetNext:17' shape=(None,) dtype=float64>, 'std_2': <tf.Tensor 'IteratorGetNext:18' shape=(None,) dtype=float64>, 'std_3': <tf.Tensor 'IteratorGetNext:19' shape=(None,) dtype=float64>, 'std_4': <tf.Tensor 'IteratorGetNext:20' shape=(None,) dtype=float64>, 'std_5': <tf.Tensor 'IteratorGetNext:21' shape=(None,) dtype=float64>, 'mdintense_1': <tf.Tensor 'IteratorGetNext:7' shape=(None,) dtype=float64>, 'mdintense_2': <tf.Tensor 'IteratorGetNext:8' shape=(None,) dtype=float64>, 'mdintense_3': <tf.Tensor 'IteratorGetNext:9' shape=(None,) dtype=float64>, 'mdintense_4': <tf.Tensor 'IteratorGetNext:10' shape=(None,) dtype=float64>, 'mdintense_5': <tf.Tensor 'IteratorGetNext:11' shape=(None,) dtype=float64>, 'L-1': <tf.Tensor 'IteratorGetNext:0' shape=(None,) dtype=int64>, 'L-2': <tf.Tensor 'IteratorGetNext:1' shape=(None,) dtype=int64>, 'L-3': <tf.Tensor 'IteratorGetNext:2' shape=(None,) dtype=int64>, 'L-4': <tf.Tensor 'IteratorGetNext:3' shape=(None,) dtype=int64>, 'L-5': <tf.Tensor 'IteratorGetNext:4' shape=(None,) dtype=int64>}. Consider rewriting this model with the Functional API.\n",
      "11667/11667 [==============================] - 76s 5ms/step - loss: 0.3035 - tp: 361.0000 - fp: 1349.0000 - tn: 1039313.0000 - fn: 125584.0000 - accuracy: 0.8912 - precision: 0.2111 - recall: 0.0029 - auc: 0.5075 - prc: 0.1180 - val_loss: 0.2568 - val_tp: 141.0000 - val_fp: 55.0000 - val_tn: 259819.0000 - val_fn: 31637.0000 - val_accuracy: 0.8913 - val_precision: 0.7194 - val_recall: 0.0044 - val_auc: 0.5333 - val_prc: 0.1719\n",
      "Epoch 2/50\n"
     ]
    },
    {
     "name": "stderr",
     "output_type": "stream",
     "text": [
      "2023-04-22 13:24:55.044687: I tensorflow/core/kernels/data/shuffle_dataset_op.cc:392] Filling up shuffle buffer (this may take a while): 992162 of 1166607\n"
     ]
    },
    {
     "name": "stdout",
     "output_type": "stream",
     "text": [
      "   39/11667 [..............................] - ETA: 48s - loss: 0.2473 - tp: 8.0000 - fp: 7.0000 - tn: 3483.0000 - fn: 402.0000 - accuracy: 0.8951 - precision: 0.5333 - recall: 0.0195 - auc: 0.5739 - prc: 0.2167                "
     ]
    },
    {
     "name": "stderr",
     "output_type": "stream",
     "text": [
      "2023-04-22 13:24:56.769404: I tensorflow/core/kernels/data/shuffle_dataset_op.cc:417] Shuffle buffer filled.\n"
     ]
    },
    {
     "name": "stdout",
     "output_type": "stream",
     "text": [
      "11667/11667 [==============================] - 72s 5ms/step - loss: 0.2415 - tp: 12239.0000 - fp: 3843.0000 - tn: 1036819.0000 - fn: 113706.0000 - accuracy: 0.8992 - precision: 0.7610 - recall: 0.0972 - auc: 0.5936 - prc: 0.2757 - val_loss: 0.2277 - val_tp: 6505.0000 - val_fp: 2057.0000 - val_tn: 257817.0000 - val_fn: 25273.0000 - val_accuracy: 0.9063 - val_precision: 0.7598 - val_recall: 0.2047 - val_auc: 0.6503 - val_prc: 0.3680\n",
      "Epoch 3/50\n"
     ]
    },
    {
     "name": "stderr",
     "output_type": "stream",
     "text": [
      "2023-04-22 13:26:06.859212: I tensorflow/core/kernels/data/shuffle_dataset_op.cc:392] Filling up shuffle buffer (this may take a while): 756644 of 1166607\n"
     ]
    },
    {
     "name": "stdout",
     "output_type": "stream",
     "text": [
      "   39/11667 [..............................] - ETA: 47s - loss: 0.2231 - tp: 73.0000 - fp: 13.0000 - tn: 3467.0000 - fn: 347.0000 - accuracy: 0.9077 - precision: 0.8488 - recall: 0.1738 - auc: 0.6273 - prc: 0.3537"
     ]
    },
    {
     "name": "stderr",
     "output_type": "stream",
     "text": [
      "2023-04-22 13:26:11.703374: I tensorflow/core/kernels/data/shuffle_dataset_op.cc:417] Shuffle buffer filled.\n"
     ]
    },
    {
     "name": "stdout",
     "output_type": "stream",
     "text": [
      "11667/11667 [==============================] - 76s 5ms/step - loss: 0.2163 - tp: 26301.0000 - fp: 6408.0000 - tn: 1034254.0000 - fn: 99644.0000 - accuracy: 0.9091 - precision: 0.8041 - recall: 0.2088 - auc: 0.6533 - prc: 0.3831 - val_loss: 0.2016 - val_tp: 7349.0000 - val_fp: 1407.0000 - val_tn: 258467.0000 - val_fn: 24429.0000 - val_accuracy: 0.9114 - val_precision: 0.8393 - val_recall: 0.2313 - val_auc: 0.6692 - val_prc: 0.4194\n",
      "Epoch 4/50\n"
     ]
    },
    {
     "name": "stderr",
     "output_type": "stream",
     "text": [
      "2023-04-22 13:27:22.706719: I tensorflow/core/kernels/data/shuffle_dataset_op.cc:392] Filling up shuffle buffer (this may take a while): 815636 of 1166607\n"
     ]
    },
    {
     "name": "stdout",
     "output_type": "stream",
     "text": [
      "   38/11667 [..............................] - ETA: 49s - loss: 0.1986 - tp: 88.0000 - fp: 19.0000 - tn: 3393.0000 - fn: 300.0000 - accuracy: 0.9161 - precision: 0.8224 - recall: 0.2268 - auc: 0.6713 - prc: 0.4151"
     ]
    },
    {
     "name": "stderr",
     "output_type": "stream",
     "text": [
      "2023-04-22 13:27:26.450132: I tensorflow/core/kernels/data/shuffle_dataset_op.cc:417] Shuffle buffer filled.\n"
     ]
    },
    {
     "name": "stdout",
     "output_type": "stream",
     "text": [
      " 1985/11667 [====>.........................] - ETA: 41s - loss: 0.2062 - tp: 5353.0000 - fp: 1228.0000 - tn: 175854.0000 - fn: 16065.0000 - accuracy: 0.9129 - precision: 0.8134 - recall: 0.2499 - auc: 0.6760 - prc: 0.4197"
     ]
    }
   ],
   "source": [
    "model = tf.keras.Sequential([\n",
    "  feature_layer,\n",
    "  layers.Dense(128, activation='relu'),\n",
    "  layers.Dense(128, activation='relu'),\n",
    "  layers.Dropout(.1),\n",
    "  layers.Dense(1)\n",
    "])\n",
    "\n",
    "model.compile(optimizer='adam',\n",
    "              loss=tf.keras.losses.BinaryCrossentropy(from_logits=True),\n",
    "              metrics=METRICS)\n",
    "\n",
    "my_callbacks = [\n",
    "    tf.keras.callbacks.EarlyStopping(patience=2),\n",
    "    tf.keras.callbacks.ModelCheckpoint(filepath='model.{epoch:02d}-{val_loss:.2f}.h5'),\n",
    "    tf.keras.callbacks.TensorBoard(log_dir='/home/jiayi/5moU/Code/extract_tombo/log/TF_Dense_logs'),\n",
    "]\n",
    "\n",
    "\n",
    "log_dir = \"logs/fit/\" + datetime.datetime.now().strftime(\"%Y%m%d-%H%M%S\")\n",
    "tensorboard_callback = tf.keras.callbacks.TensorBoard(log_dir=log_dir, histogram_freq=1)\n",
    "\n",
    "history=model.fit(train_ds,\n",
    "          validation_data=val_ds,\n",
    "          epochs=50,\n",
    "         callbacks= [tensorboard_callback])"
   ]
  },
  {
   "cell_type": "code",
   "execution_count": null,
   "id": "6ca5ec6d",
   "metadata": {},
   "outputs": [],
   "source": []
  },
  {
   "cell_type": "code",
   "execution_count": 37,
   "id": "3e4e042c",
   "metadata": {},
   "outputs": [],
   "source": [
    "from sklearn.metrics import classification_report, accuracy_score, confusion_matrix,roc_curve,roc_auc_score\n",
    "val, labels = tuple(zip(*val_ds))\n",
    "cm = confusion_matrix(labels,model.fit(val_ds))\n",
    "\n",
    "fig = plt.figure(figsize = (8,8))\n",
    "\n",
    "ax1 = sns.heatmap(cm,annot=True,fmt='.20g',xticklabels = ['unmoified','modified'] , yticklabels = ['unmodified','modified'])\n",
    "ax1.set_title('Confusion matrix for neural network model',size = 18)\n",
    "ax1.set_xlabel('predict')\n",
    "ax1.set_ylabel('true')\n",
    "\n",
    "plt.show()\n",
    "\n",
    "fig.savefig('/home/jiayi/5moU/Results/sigallseq_confusion.png')"
   ]
  },
  {
   "cell_type": "code",
   "execution_count": 19,
   "id": "6c1d6875",
   "metadata": {},
   "outputs": [],
   "source": [
    "import matplotlib.pyplot as plt\n",
    "colors = plt.rcParams['axes.prop_cycle'].by_key()['color']\n",
    "def plot_metrics(history):\n",
    "  metrics = ['loss', 'prc', 'precision', 'recall']\n",
    "  for n, metric in enumerate(metrics):\n",
    "    name = metric.replace(\"_\",\" \").capitalize()\n",
    "    plt.subplot(2,2,n+1)\n",
    "    plt.plot(history.epoch, history.history[metric], color=colors[0], label='Train')\n",
    "    plt.plot(history.epoch, history.history['val_'+metric],\n",
    "             color=colors[0], linestyle=\"--\", label='Val')\n",
    "    plt.xlabel('Epoch')\n",
    "    plt.ylabel(name)\n",
    "    if metric == 'loss':\n",
    "      plt.ylim([0, plt.ylim()[1]])\n",
    "    elif metric == 'auc':\n",
    "      plt.ylim([0.8,1])\n",
    "    else:\n",
    "      plt.ylim([0,1])\n",
    "\n",
    "    plt.legend()\n",
    "\n"
   ]
  },
  {
   "cell_type": "code",
   "execution_count": null,
   "id": "86170992",
   "metadata": {},
   "outputs": [],
   "source": [
    "plot_metrics(history)"
   ]
  },
  {
   "cell_type": "code",
   "execution_count": null,
   "id": "1b861c0b",
   "metadata": {},
   "outputs": [],
   "source": []
  }
 ],
 "metadata": {
  "kernelspec": {
   "display_name": "Python 3 (ipykernel)",
   "language": "python",
   "name": "python3"
  },
  "language_info": {
   "codemirror_mode": {
    "name": "ipython",
    "version": 3
   },
   "file_extension": ".py",
   "mimetype": "text/x-python",
   "name": "python",
   "nbconvert_exporter": "python",
   "pygments_lexer": "ipython3",
   "version": "3.9.12"
  }
 },
 "nbformat": 4,
 "nbformat_minor": 5
}
