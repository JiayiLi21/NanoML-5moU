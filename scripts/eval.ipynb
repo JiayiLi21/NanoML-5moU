{
 "cells": [
  {
   "cell_type": "code",
   "execution_count": 1,
   "id": "06b7dfa1",
   "metadata": {},
   "outputs": [],
   "source": [
    "import pandas as pd\n",
    "import numpy as np\n",
    "import matplotlib.pyplot as plt\n"
   ]
  },
  {
   "cell_type": "code",
   "execution_count": 36,
   "id": "9d324fa8",
   "metadata": {},
   "outputs": [],
   "source": [
    "def AUCstat(perfpath):\n",
    "    perf=pd.read_csv(perfpath)\n",
    "    eval_list=perf['auc']\n",
    "    describe=perf['auc'].describe()\n",
    "    return describe"
   ]
  },
  {
   "cell_type": "code",
   "execution_count": 5,
   "id": "b2e911b9",
   "metadata": {},
   "outputs": [
    {
     "data": {
      "text/plain": [
       "count    54.000000\n",
       "mean      0.809380\n",
       "std       0.071983\n",
       "min       0.641607\n",
       "25%       0.769867\n",
       "50%       0.805241\n",
       "75%       0.861161\n",
       "max       0.958085\n",
       "Name: auc, dtype: float64"
      ]
     },
     "execution_count": 5,
     "metadata": {},
     "output_type": "execute_result"
    }
   ],
   "source": [
    "AUCstat('/home/jiayi/5moU/data/DL_fromTombo/eval_xgb_perf.csv')"
   ]
  },
  {
   "cell_type": "code",
   "execution_count": 8,
   "id": "6f1ab602",
   "metadata": {},
   "outputs": [],
   "source": [
    "def Accstat(perfpath):\n",
    "    perf=pd.read_csv(perfpath)\n",
    "    eval_list=perf['Acc']\n",
    "    describe=perf['Acc'].describe()\n",
    "    return describe"
   ]
  },
  {
   "cell_type": "code",
   "execution_count": 9,
   "id": "c914e06c",
   "metadata": {},
   "outputs": [
    {
     "data": {
      "text/plain": [
       "count    54.000000\n",
       "mean      0.942568\n",
       "std       0.019597\n",
       "min       0.897399\n",
       "25%       0.928984\n",
       "50%       0.944665\n",
       "75%       0.956714\n",
       "max       0.982759\n",
       "Name: Acc, dtype: float64"
      ]
     },
     "execution_count": 9,
     "metadata": {},
     "output_type": "execute_result"
    }
   ],
   "source": [
    "Accstat('/home/jiayi/5moU/data/DL_fromTombo/eval_xgb_perf.csv')"
   ]
  },
  {
   "cell_type": "code",
   "execution_count": 10,
   "id": "291b839e",
   "metadata": {},
   "outputs": [],
   "source": [
    "def Precstat(perfpath):\n",
    "    perf=pd.read_csv(perfpath)\n",
    "    eval_list=perf['Precision']\n",
    "    describe=perf['Precision'].describe()\n",
    "    return describe"
   ]
  },
  {
   "cell_type": "code",
   "execution_count": 11,
   "id": "bde250b0",
   "metadata": {},
   "outputs": [
    {
     "data": {
      "text/plain": [
       "count    54.000000\n",
       "mean      0.797291\n",
       "std       0.102853\n",
       "min       0.532967\n",
       "25%       0.732782\n",
       "50%       0.810135\n",
       "75%       0.868701\n",
       "max       1.000000\n",
       "Name: Precision, dtype: float64"
      ]
     },
     "execution_count": 11,
     "metadata": {},
     "output_type": "execute_result"
    }
   ],
   "source": [
    "Precstat('/home/jiayi/5moU/data/DL_fromTombo/eval_xgb_perf.csv')"
   ]
  },
  {
   "cell_type": "code",
   "execution_count": 15,
   "id": "846d1846",
   "metadata": {},
   "outputs": [
    {
     "data": {
      "text/plain": [
       "count    54.000000\n",
       "mean      0.639203\n",
       "std       0.142778\n",
       "min       0.300326\n",
       "25%       0.551058\n",
       "50%       0.631951\n",
       "75%       0.729058\n",
       "max       0.925926\n",
       "Name: Recall, dtype: float64"
      ]
     },
     "execution_count": 15,
     "metadata": {},
     "output_type": "execute_result"
    }
   ],
   "source": [
    "def Recallstat(perfpath):\n",
    "    perf=pd.read_csv(perfpath)\n",
    "    eval_list=perf['Recall']\n",
    "    describe=perf['Recall'].describe()\n",
    "    return describe\n",
    "Recallstat('/home/jiayi/5moU/data/DL_fromTombo/eval_xgb_perf.csv')"
   ]
  },
  {
   "cell_type": "code",
   "execution_count": 16,
   "id": "6ed7de80",
   "metadata": {},
   "outputs": [
    {
     "data": {
      "text/plain": [
       "count    54.000000\n",
       "mean      0.639203\n",
       "std       0.142778\n",
       "min       0.300326\n",
       "25%       0.551058\n",
       "50%       0.631951\n",
       "75%       0.729058\n",
       "max       0.925926\n",
       "Name: Recall, dtype: float64"
      ]
     },
     "execution_count": 16,
     "metadata": {},
     "output_type": "execute_result"
    }
   ],
   "source": [
    "def F1stat(perfpath):\n",
    "    perf=pd.read_csv(perfpath)\n",
    "    eval_list=perf['F1']\n",
    "    describe=perf['F1'].describe()\n",
    "    return describe\n",
    "Recallstat('/home/jiayi/5moU/data/DL_fromTombo/eval_xgb_perf.csv')"
   ]
  },
  {
   "cell_type": "code",
   "execution_count": 34,
   "id": "0194857f",
   "metadata": {},
   "outputs": [],
   "source": [
    "def ValMean(perfpath):\n",
    "    perf=pd.read_csv(perfpath)\n",
    "    AUC=perf['auc'].mean()\n",
    "    Acc=perf['Acc'].mean()\n",
    "    Pre=perf['Precision'].mean()\n",
    "    Recall=perf['Recall'].mean()\n",
    "    #F1=perf['F1'].mean()\n",
    "    eval=[AUC,Acc,Pre,Recall]\n",
    "    return eval"
   ]
  },
  {
   "cell_type": "code",
   "execution_count": 26,
   "id": "227bc2a8",
   "metadata": {},
   "outputs": [
    {
     "data": {
      "text/plain": [
       "[0.8858361541146372,\n",
       " 0.9677201921757681,\n",
       " 0.9166198665236636,\n",
       " 0.7805473723581069]"
      ]
     },
     "execution_count": 26,
     "metadata": {},
     "output_type": "execute_result"
    }
   ],
   "source": [
    "ValMean('/home/jiayi/5moU/data/DL_fromTombo/eval_RF_perf.csv')"
   ]
  },
  {
   "cell_type": "code",
   "execution_count": 30,
   "id": "c02450e9",
   "metadata": {},
   "outputs": [
    {
     "ename": "AttributeError",
     "evalue": "'Series' object has no attribute 'to_numeric'",
     "output_type": "error",
     "traceback": [
      "\u001b[0;31m---------------------------------------------------------------------------\u001b[0m",
      "\u001b[0;31mAttributeError\u001b[0m                            Traceback (most recent call last)",
      "Cell \u001b[0;32mIn[30], line 2\u001b[0m\n\u001b[1;32m      1\u001b[0m RF\u001b[38;5;241m=\u001b[39mpd\u001b[38;5;241m.\u001b[39mread_csv(\u001b[38;5;124m'\u001b[39m\u001b[38;5;124m/home/jiayi/5moU/data/DL_fromTombo/eval_RF_perf.csv\u001b[39m\u001b[38;5;124m'\u001b[39m)\n\u001b[0;32m----> 2\u001b[0m F1\u001b[38;5;241m=\u001b[39m\u001b[43mRF\u001b[49m\u001b[43m[\u001b[49m\u001b[38;5;124;43m'\u001b[39;49m\u001b[38;5;124;43mF1\u001b[39;49m\u001b[38;5;124;43m'\u001b[39;49m\u001b[43m]\u001b[49m\u001b[38;5;241;43m.\u001b[39;49m\u001b[43mto_numeric\u001b[49m\n",
      "File \u001b[0;32m~/miniconda3/lib/python3.9/site-packages/pandas/core/generic.py:5902\u001b[0m, in \u001b[0;36mNDFrame.__getattr__\u001b[0;34m(self, name)\u001b[0m\n\u001b[1;32m   5895\u001b[0m \u001b[38;5;28;01mif\u001b[39;00m (\n\u001b[1;32m   5896\u001b[0m     name \u001b[38;5;129;01mnot\u001b[39;00m \u001b[38;5;129;01min\u001b[39;00m \u001b[38;5;28mself\u001b[39m\u001b[38;5;241m.\u001b[39m_internal_names_set\n\u001b[1;32m   5897\u001b[0m     \u001b[38;5;129;01mand\u001b[39;00m name \u001b[38;5;129;01mnot\u001b[39;00m \u001b[38;5;129;01min\u001b[39;00m \u001b[38;5;28mself\u001b[39m\u001b[38;5;241m.\u001b[39m_metadata\n\u001b[1;32m   5898\u001b[0m     \u001b[38;5;129;01mand\u001b[39;00m name \u001b[38;5;129;01mnot\u001b[39;00m \u001b[38;5;129;01min\u001b[39;00m \u001b[38;5;28mself\u001b[39m\u001b[38;5;241m.\u001b[39m_accessors\n\u001b[1;32m   5899\u001b[0m     \u001b[38;5;129;01mand\u001b[39;00m \u001b[38;5;28mself\u001b[39m\u001b[38;5;241m.\u001b[39m_info_axis\u001b[38;5;241m.\u001b[39m_can_hold_identifiers_and_holds_name(name)\n\u001b[1;32m   5900\u001b[0m ):\n\u001b[1;32m   5901\u001b[0m     \u001b[38;5;28;01mreturn\u001b[39;00m \u001b[38;5;28mself\u001b[39m[name]\n\u001b[0;32m-> 5902\u001b[0m \u001b[38;5;28;01mreturn\u001b[39;00m \u001b[38;5;28;43mobject\u001b[39;49m\u001b[38;5;241;43m.\u001b[39;49m\u001b[38;5;21;43m__getattribute__\u001b[39;49m\u001b[43m(\u001b[49m\u001b[38;5;28;43mself\u001b[39;49m\u001b[43m,\u001b[49m\u001b[43m \u001b[49m\u001b[43mname\u001b[49m\u001b[43m)\u001b[49m\n",
      "\u001b[0;31mAttributeError\u001b[0m: 'Series' object has no attribute 'to_numeric'"
     ]
    }
   ],
   "source": [
    "RF=pd.read_csv('/home/jiayi/5moU/data/DL_fromTombo/eval_RF_perf.csv')\n",
    "F1=RF['F1'].to_numeric"
   ]
  },
  {
   "cell_type": "code",
   "execution_count": 43,
   "id": "5ad76b29",
   "metadata": {},
   "outputs": [
    {
     "data": {
      "text/plain": [
       "count    54.000000\n",
       "mean      0.840930\n",
       "std       0.063003\n",
       "min       0.680851\n",
       "25%       0.788068\n",
       "50%       0.853733\n",
       "75%       0.885616\n",
       "max       0.973684\n",
       "Name: F1, dtype: float64"
      ]
     },
     "execution_count": 43,
     "metadata": {},
     "output_type": "execute_result"
    }
   ],
   "source": [
    "def F1stat(perfpath):\n",
    "    perf=pd.read_csv(perfpath)\n",
    "    eval_list=perf['F1']\n",
    "    describe=perf['F1'].describe()\n",
    "    return describe\n",
    "F1stat('/home/jiayi/5moU/data/DL_fromTombo/eval_RF_perf.csv')"
   ]
  },
  {
   "cell_type": "code",
   "execution_count": 37,
   "id": "90159539",
   "metadata": {},
   "outputs": [
    {
     "data": {
      "text/plain": [
       "[0.8804911808850904,\n",
       " 0.9671670474172538,\n",
       " 0.9135171195512399,\n",
       " 0.7697986538996178]"
      ]
     },
     "execution_count": 37,
     "metadata": {},
     "output_type": "execute_result"
    }
   ],
   "source": [
    "ValMean('/home/jiayi/5moU/data/DL_fromTombo/eval_SVM_perf.csv')"
   ]
  },
  {
   "cell_type": "code",
   "execution_count": 44,
   "id": "5c0c9ec7",
   "metadata": {},
   "outputs": [
    {
     "data": {
      "text/plain": [
       "count    54.000000\n",
       "mean      0.834046\n",
       "std       0.068010\n",
       "min       0.649635\n",
       "25%       0.778457\n",
       "50%       0.854740\n",
       "75%       0.882424\n",
       "max       0.933333\n",
       "Name: F1, dtype: float64"
      ]
     },
     "execution_count": 44,
     "metadata": {},
     "output_type": "execute_result"
    }
   ],
   "source": [
    "F1stat('/home/jiayi/5moU/data/DL_fromTombo/eval_SVM_perf.csv')"
   ]
  },
  {
   "cell_type": "code",
   "execution_count": null,
   "id": "59fca5ed",
   "metadata": {},
   "outputs": [],
   "source": []
  }
 ],
 "metadata": {
  "kernelspec": {
   "display_name": "Python 3 (ipykernel)",
   "language": "python",
   "name": "python3"
  },
  "language_info": {
   "codemirror_mode": {
    "name": "ipython",
    "version": 3
   },
   "file_extension": ".py",
   "mimetype": "text/x-python",
   "name": "python",
   "nbconvert_exporter": "python",
   "pygments_lexer": "ipython3",
   "version": "3.9.12"
  }
 },
 "nbformat": 4,
 "nbformat_minor": 5
}
