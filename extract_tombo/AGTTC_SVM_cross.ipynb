{
 "cells": [
  {
   "cell_type": "code",
   "execution_count": 1,
   "id": "213ceedf",
   "metadata": {},
   "outputs": [
    {
     "name": "stdout",
     "output_type": "stream",
     "text": [
      "AUC: 0.9003 +/- 0.0067\n",
      "Accuracy: 0.9704 +/- 0.0037\n",
      "Precision: 0.9344 +/- 0.0508\n",
      "Recall: 0.9003 +/- 0.0067\n",
      "AUPRC: 0.9328 +/- 0.0205\n",
      "F1 score: 0.8656 +/- 0.0199\n",
      "MCC: 0.8525 +/- 0.0232\n"
     ]
    }
   ],
   "source": [
    "import numpy as np\n",
    "import pandas as pd\n",
    "from sklearn.model_selection import KFold\n",
    "from sklearn.metrics import roc_auc_score, accuracy_score, precision_score, recall_score, f1_score, matthews_corrcoef, average_precision_score\n",
    "#import xgboost as xgb\n",
    "from sklearn.svm import SVC\n",
    "\n",
    "# Load your data into a pandas DataFrame, assuming that the target variable is in the 'target' column\n",
    "#data = pd.read_csv('your_data.csv')\n",
    "data = pd.read_csv('/home/jiayi/5moU/data/DL_fromTombo/all_AGTTC.csv')\n",
    "# Define the number of folds for cross-validation\n",
    "n_folds = 5\n",
    "\n",
    "# Define the evaluation metrics to use\n",
    "metrics = {\n",
    "    'AUC': roc_auc_score,\n",
    "    'Accuracy': accuracy_score,\n",
    "    'Precision': precision_score,\n",
    "    'Recall': lambda y_true, y_pred: recall_score(y_true, y_pred, average='macro'),\n",
    "    'AUPRC': average_precision_score,\n",
    "    'F1 score': f1_score,\n",
    "    'MCC': matthews_corrcoef\n",
    "}\n",
    "\n",
    "# Initialize arrays to store the evaluation metrics for each fold\n",
    "results = {}\n",
    "for metric in metrics:\n",
    "    results[metric] = np.zeros(n_folds)\n",
    "\n",
    "# Define the K-fold cross-validation object\n",
    "kf = KFold(n_splits=n_folds, shuffle=True, random_state=42)\n",
    "\n",
    "# Loop over the folds\n",
    "for i, (train_idx, test_idx) in enumerate(kf.split(data)):\n",
    "    # Split the data into training and testing sets for this fold\n",
    "    X_train, y_train = data.iloc[train_idx, 2:-1], data.iloc[train_idx, -1]\n",
    "    X_test, y_test = data.iloc[test_idx, 2:-1], data.iloc[test_idx, -1]\n",
    "    \n",
    "    # Train an XGBoost model on the training data for this fold\n",
    "    model = SVC(probability=True)\n",
    "    model.fit(X_train, y_train)\n",
    "    \n",
    "    \n",
    "    # Predict the probabilities and labels for the testing data\n",
    "    y_prob = model.predict_proba(X_test)[:, 1]\n",
    "    y_pred = model.predict(X_test)\n",
    "    \n",
    "    # Calculate the evaluation metrics for this fold\n",
    "    for metric_name, metric_fn in metrics.items():\n",
    "        if metric_name == 'AUPRC':\n",
    "            results[metric_name][i] = metric_fn(y_test, y_prob)\n",
    "        else:\n",
    "            results[metric_name][i] = metric_fn(y_test, y_pred)\n",
    "    \n",
    "# Print the mean and standard deviation of each evaluation metric across all folds\n",
    "for metric_name in metrics:\n",
    "    print(f'{metric_name}: {results[metric_name].mean():.4f} +/- {results[metric_name].std():.4f}')\n"
   ]
  },
  {
   "cell_type": "code",
   "execution_count": null,
   "id": "d4341b95",
   "metadata": {},
   "outputs": [],
   "source": []
  }
 ],
 "metadata": {
  "kernelspec": {
   "display_name": "Python 3 (ipykernel)",
   "language": "python",
   "name": "python3"
  },
  "language_info": {
   "codemirror_mode": {
    "name": "ipython",
    "version": 3
   },
   "file_extension": ".py",
   "mimetype": "text/x-python",
   "name": "python",
   "nbconvert_exporter": "python",
   "pygments_lexer": "ipython3",
   "version": "3.9.12"
  }
 },
 "nbformat": 4,
 "nbformat_minor": 5
}
