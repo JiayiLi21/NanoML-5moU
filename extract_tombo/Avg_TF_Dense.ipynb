{
 "cells": [
  {
   "cell_type": "code",
   "execution_count": 1,
   "id": "b4376ffa",
   "metadata": {},
   "outputs": [
    {
     "name": "stderr",
     "output_type": "stream",
     "text": [
      "2023-04-22 13:11:29.112994: I tensorflow/core/util/port.cc:110] oneDNN custom operations are on. You may see slightly different numerical results due to floating-point round-off errors from different computation orders. To turn them off, set the environment variable `TF_ENABLE_ONEDNN_OPTS=0`.\n",
      "2023-04-22 13:11:29.172949: I tensorflow/tsl/cuda/cudart_stub.cc:28] Could not find cuda drivers on your machine, GPU will not be used.\n",
      "2023-04-22 13:11:29.487800: I tensorflow/tsl/cuda/cudart_stub.cc:28] Could not find cuda drivers on your machine, GPU will not be used.\n",
      "2023-04-22 13:11:29.489578: I tensorflow/core/platform/cpu_feature_guard.cc:182] This TensorFlow binary is optimized to use available CPU instructions in performance-critical operations.\n",
      "To enable the following instructions: AVX2 AVX512F AVX512_VNNI FMA, in other operations, rebuild TensorFlow with the appropriate compiler flags.\n",
      "2023-04-22 13:11:30.999416: W tensorflow/compiler/tf2tensorrt/utils/py_utils.cc:38] TF-TRT Warning: Could not find TensorRT\n"
     ]
    }
   ],
   "source": [
    "import numpy as np\n",
    "import pandas as pd\n",
    "\n",
    "import tensorflow as tf\n",
    "import datetime\n",
    "\n",
    "from tensorflow import feature_column\n",
    "from tensorflow.keras import layers\n",
    "from sklearn.model_selection import train_test_split\n",
    "     "
   ]
  },
  {
   "cell_type": "markdown",
   "id": "6b9210fd",
   "metadata": {},
   "source": [
    "# Reference https://www.tensorflow.org/tutorials/structured_data/feature_columns?hl=zh-cn\n",
    "https://github.com/christianversloot/machine-learning-articles/blob/main/how-to-use-k-fold-cross-validation-with-keras.md\n"
   ]
  },
  {
   "cell_type": "code",
   "execution_count": 5,
   "id": "4d055770",
   "metadata": {},
   "outputs": [
    {
     "data": {
      "text/html": [
       "<div>\n",
       "<style scoped>\n",
       "    .dataframe tbody tr th:only-of-type {\n",
       "        vertical-align: middle;\n",
       "    }\n",
       "\n",
       "    .dataframe tbody tr th {\n",
       "        vertical-align: top;\n",
       "    }\n",
       "\n",
       "    .dataframe thead th {\n",
       "        text-align: right;\n",
       "    }\n",
       "</style>\n",
       "<table border=\"1\" class=\"dataframe\">\n",
       "  <thead>\n",
       "    <tr style=\"text-align: right;\">\n",
       "      <th></th>\n",
       "      <th>indx</th>\n",
       "      <th>kmer</th>\n",
       "      <th>avg_mean</th>\n",
       "      <th>avg_std</th>\n",
       "      <th>avg_mdintense</th>\n",
       "      <th>avg_length2</th>\n",
       "      <th>label</th>\n",
       "    </tr>\n",
       "  </thead>\n",
       "  <tbody>\n",
       "    <tr>\n",
       "      <th>0</th>\n",
       "      <td>20</td>\n",
       "      <td>CATCT</td>\n",
       "      <td>-0.379295</td>\n",
       "      <td>0.059457</td>\n",
       "      <td>-0.386073</td>\n",
       "      <td>18.6</td>\n",
       "      <td>1</td>\n",
       "    </tr>\n",
       "    <tr>\n",
       "      <th>1</th>\n",
       "      <td>22</td>\n",
       "      <td>TCTTC</td>\n",
       "      <td>-0.224518</td>\n",
       "      <td>0.079366</td>\n",
       "      <td>-0.226347</td>\n",
       "      <td>21.8</td>\n",
       "      <td>1</td>\n",
       "    </tr>\n",
       "    <tr>\n",
       "      <th>2</th>\n",
       "      <td>23</td>\n",
       "      <td>CTTCG</td>\n",
       "      <td>-0.027033</td>\n",
       "      <td>0.106017</td>\n",
       "      <td>-0.016552</td>\n",
       "      <td>24.2</td>\n",
       "      <td>1</td>\n",
       "    </tr>\n",
       "    <tr>\n",
       "      <th>3</th>\n",
       "      <td>35</td>\n",
       "      <td>CGTGG</td>\n",
       "      <td>0.135500</td>\n",
       "      <td>0.146305</td>\n",
       "      <td>0.127863</td>\n",
       "      <td>19.6</td>\n",
       "      <td>1</td>\n",
       "    </tr>\n",
       "    <tr>\n",
       "      <th>4</th>\n",
       "      <td>44</td>\n",
       "      <td>CCTGC</td>\n",
       "      <td>-0.297275</td>\n",
       "      <td>0.098792</td>\n",
       "      <td>-0.307865</td>\n",
       "      <td>59.0</td>\n",
       "      <td>1</td>\n",
       "    </tr>\n",
       "    <tr>\n",
       "      <th>...</th>\n",
       "      <td>...</td>\n",
       "      <td>...</td>\n",
       "      <td>...</td>\n",
       "      <td>...</td>\n",
       "      <td>...</td>\n",
       "      <td>...</td>\n",
       "      <td>...</td>\n",
       "    </tr>\n",
       "    <tr>\n",
       "      <th>1822819</th>\n",
       "      <td>350</td>\n",
       "      <td>GCTGG</td>\n",
       "      <td>0.251371</td>\n",
       "      <td>0.097341</td>\n",
       "      <td>0.250863</td>\n",
       "      <td>205.6</td>\n",
       "      <td>0</td>\n",
       "    </tr>\n",
       "    <tr>\n",
       "      <th>1822820</th>\n",
       "      <td>365</td>\n",
       "      <td>GATCC</td>\n",
       "      <td>-0.242580</td>\n",
       "      <td>0.199999</td>\n",
       "      <td>-0.230983</td>\n",
       "      <td>8.0</td>\n",
       "      <td>0</td>\n",
       "    </tr>\n",
       "    <tr>\n",
       "      <th>1822821</th>\n",
       "      <td>374</td>\n",
       "      <td>GATCC</td>\n",
       "      <td>-0.153419</td>\n",
       "      <td>0.253634</td>\n",
       "      <td>-0.074312</td>\n",
       "      <td>570.2</td>\n",
       "      <td>0</td>\n",
       "    </tr>\n",
       "    <tr>\n",
       "      <th>1822822</th>\n",
       "      <td>377</td>\n",
       "      <td>CCTGA</td>\n",
       "      <td>-0.008397</td>\n",
       "      <td>0.117552</td>\n",
       "      <td>-0.003787</td>\n",
       "      <td>137.6</td>\n",
       "      <td>0</td>\n",
       "    </tr>\n",
       "    <tr>\n",
       "      <th>1822823</th>\n",
       "      <td>380</td>\n",
       "      <td>GATCA</td>\n",
       "      <td>-0.103584</td>\n",
       "      <td>0.154995</td>\n",
       "      <td>-0.112652</td>\n",
       "      <td>64.4</td>\n",
       "      <td>0</td>\n",
       "    </tr>\n",
       "  </tbody>\n",
       "</table>\n",
       "<p>1822824 rows × 7 columns</p>\n",
       "</div>"
      ],
      "text/plain": [
       "         indx   kmer  avg_mean   avg_std  avg_mdintense  avg_length2  label\n",
       "0          20  CATCT -0.379295  0.059457      -0.386073         18.6      1\n",
       "1          22  TCTTC -0.224518  0.079366      -0.226347         21.8      1\n",
       "2          23  CTTCG -0.027033  0.106017      -0.016552         24.2      1\n",
       "3          35  CGTGG  0.135500  0.146305       0.127863         19.6      1\n",
       "4          44  CCTGC -0.297275  0.098792      -0.307865         59.0      1\n",
       "...       ...    ...       ...       ...            ...          ...    ...\n",
       "1822819   350  GCTGG  0.251371  0.097341       0.250863        205.6      0\n",
       "1822820   365  GATCC -0.242580  0.199999      -0.230983          8.0      0\n",
       "1822821   374  GATCC -0.153419  0.253634      -0.074312        570.2      0\n",
       "1822822   377  CCTGA -0.008397  0.117552      -0.003787        137.6      0\n",
       "1822823   380  GATCA -0.103584  0.154995      -0.112652         64.4      0\n",
       "\n",
       "[1822824 rows x 7 columns]"
      ]
     },
     "execution_count": 5,
     "metadata": {},
     "output_type": "execute_result"
    }
   ],
   "source": [
    "data=pd.read_csv('/home/jiayi/5moU/data/DL_fromTombo/avg_tombo.csv')\n",
    "data"
   ]
  },
  {
   "cell_type": "code",
   "execution_count": 6,
   "id": "640d8d5e",
   "metadata": {},
   "outputs": [
    {
     "name": "stdout",
     "output_type": "stream",
     "text": [
      "1166607 train examples\n",
      "291652 validation examples\n",
      "364565 test examples\n"
     ]
    }
   ],
   "source": [
    "train, test = train_test_split(data, test_size=0.2)\n",
    "train, val = train_test_split(train, test_size=0.2)\n",
    "print(len(train), 'train examples')\n",
    "print(len(val), 'validation examples')\n",
    "print(len(test), 'test examples')"
   ]
  },
  {
   "cell_type": "code",
   "execution_count": 11,
   "id": "1497cd6e",
   "metadata": {},
   "outputs": [],
   "source": [
    "\n",
    "def df_to_dataset(data, shuffle=True, batch_size=32):\n",
    "  data = data.copy()\n",
    "  labels = data.pop('label')\n",
    "  ds = tf.data.Dataset.from_tensor_slices((dict(data), labels))\n",
    "  if shuffle:\n",
    "    ds = ds.shuffle(buffer_size=len(data))\n",
    "  ds = ds.batch(batch_size)\n",
    "  return ds"
   ]
  },
  {
   "cell_type": "code",
   "execution_count": 12,
   "id": "fbe5314c",
   "metadata": {},
   "outputs": [
    {
     "ename": "AttributeError",
     "evalue": "'tuple' object has no attribute 'copy'",
     "output_type": "error",
     "traceback": [
      "\u001b[0;31m---------------------------------------------------------------------------\u001b[0m",
      "\u001b[0;31mAttributeError\u001b[0m                            Traceback (most recent call last)",
      "Cell \u001b[0;32mIn[12], line 3\u001b[0m\n\u001b[1;32m      1\u001b[0m batch_size \u001b[38;5;241m=\u001b[39m \u001b[38;5;241m5\u001b[39m \u001b[38;5;66;03m# A small batch sized is used for demonstration purposes\u001b[39;00m\n\u001b[1;32m      2\u001b[0m train_ds \u001b[38;5;241m=\u001b[39m df_to_dataset(train, batch_size\u001b[38;5;241m=\u001b[39mbatch_size)\n\u001b[0;32m----> 3\u001b[0m val_ds \u001b[38;5;241m=\u001b[39m \u001b[43mdf_to_dataset\u001b[49m\u001b[43m(\u001b[49m\u001b[43mval\u001b[49m\u001b[43m,\u001b[49m\u001b[43m \u001b[49m\u001b[43mshuffle\u001b[49m\u001b[38;5;241;43m=\u001b[39;49m\u001b[38;5;28;43;01mFalse\u001b[39;49;00m\u001b[43m,\u001b[49m\u001b[43m \u001b[49m\u001b[43mbatch_size\u001b[49m\u001b[38;5;241;43m=\u001b[39;49m\u001b[43mbatch_size\u001b[49m\u001b[43m)\u001b[49m\n\u001b[1;32m      4\u001b[0m test_ds \u001b[38;5;241m=\u001b[39m df_to_dataset(test, shuffle\u001b[38;5;241m=\u001b[39m\u001b[38;5;28;01mFalse\u001b[39;00m, batch_size\u001b[38;5;241m=\u001b[39mbatch_size)\n\u001b[1;32m      7\u001b[0m val, labels \u001b[38;5;241m=\u001b[39m \u001b[38;5;28mtuple\u001b[39m(\u001b[38;5;28mzip\u001b[39m(\u001b[38;5;241m*\u001b[39mval_ds))\n",
      "Cell \u001b[0;32mIn[11], line 2\u001b[0m, in \u001b[0;36mdf_to_dataset\u001b[0;34m(data, shuffle, batch_size)\u001b[0m\n\u001b[1;32m      1\u001b[0m \u001b[38;5;28;01mdef\u001b[39;00m \u001b[38;5;21mdf_to_dataset\u001b[39m(data, shuffle\u001b[38;5;241m=\u001b[39m\u001b[38;5;28;01mTrue\u001b[39;00m, batch_size\u001b[38;5;241m=\u001b[39m\u001b[38;5;241m32\u001b[39m):\n\u001b[0;32m----> 2\u001b[0m   data \u001b[38;5;241m=\u001b[39m \u001b[43mdata\u001b[49m\u001b[38;5;241;43m.\u001b[39;49m\u001b[43mcopy\u001b[49m()\n\u001b[1;32m      3\u001b[0m   labels \u001b[38;5;241m=\u001b[39m data\u001b[38;5;241m.\u001b[39mpop(\u001b[38;5;124m'\u001b[39m\u001b[38;5;124mlabel\u001b[39m\u001b[38;5;124m'\u001b[39m)\n\u001b[1;32m      4\u001b[0m   ds \u001b[38;5;241m=\u001b[39m tf\u001b[38;5;241m.\u001b[39mdata\u001b[38;5;241m.\u001b[39mDataset\u001b[38;5;241m.\u001b[39mfrom_tensor_slices((\u001b[38;5;28mdict\u001b[39m(data), labels))\n",
      "\u001b[0;31mAttributeError\u001b[0m: 'tuple' object has no attribute 'copy'"
     ]
    }
   ],
   "source": [
    "batch_size = 5 # A small batch sized is used for demonstration purposes\n",
    "train_ds = df_to_dataset(train, batch_size=batch_size)\n",
    "val_ds = df_to_dataset(val, shuffle=False, batch_size=batch_size)\n",
    "test_ds = df_to_dataset(test, shuffle=False, batch_size=batch_size)\n",
    "\n",
    "\n",
    "val, labels = tuple(zip(*val_ds))"
   ]
  },
  {
   "cell_type": "code",
   "execution_count": 10,
   "id": "7d6bb853",
   "metadata": {},
   "outputs": [
    {
     "name": "stderr",
     "output_type": "stream",
     "text": [
      "2023-04-22 13:13:04.669793: I tensorflow/core/common_runtime/executor.cc:1197] [/device:CPU:0] (DEBUG INFO) Executor start aborting (this does not indicate an error and you can ignore this message): INVALID_ARGUMENT: You must feed a value for placeholder tensor 'Placeholder/_4' with dtype int64 and shape [1166607]\n",
      "\t [[{{node Placeholder/_4}}]]\n",
      "2023-04-22 13:13:04.670243: I tensorflow/core/common_runtime/executor.cc:1197] [/device:CPU:0] (DEBUG INFO) Executor start aborting (this does not indicate an error and you can ignore this message): INVALID_ARGUMENT: You must feed a value for placeholder tensor 'Placeholder/_5' with dtype string and shape [1166607]\n",
      "\t [[{{node Placeholder/_5}}]]\n"
     ]
    },
    {
     "name": "stdout",
     "output_type": "stream",
     "text": [
      "Every feature: ['indx', 'kmer', 'avg_mean', 'avg_std', 'avg_mdintense', 'avg_length2']\n",
      "A batch of kmer: tf.Tensor([b'GGTGC' b'CATCC' b'CATGA' b'TGTTC' b'TCTAC'], shape=(5,), dtype=string)\n",
      "A batch of targets: tf.Tensor([0 0 0 0 0], shape=(5,), dtype=int64)\n"
     ]
    }
   ],
   "source": [
    "#Understand the input pipeline\n",
    "#Now that we have created the input pipeline, let's call it to see the format of the data it returns. We have used a small batch size to keep the output readable.\n",
    "for feature_batch, label_batch in train_ds.take(1):\n",
    "  print('Every feature:', list(feature_batch.keys()))\n",
    "  print('A batch of kmer:', feature_batch['kmer'])\n",
    "  print('A batch of targets:', label_batch )"
   ]
  },
  {
   "cell_type": "code",
   "execution_count": 7,
   "id": "8413384b",
   "metadata": {},
   "outputs": [
    {
     "name": "stderr",
     "output_type": "stream",
     "text": [
      "2023-04-16 20:03:01.583219: I tensorflow/core/common_runtime/executor.cc:1197] [/device:CPU:0] (DEBUG INFO) Executor start aborting (this does not indicate an error and you can ignore this message): INVALID_ARGUMENT: You must feed a value for placeholder tensor 'Placeholder/_2' with dtype double and shape [1166607]\n",
      "\t [[{{node Placeholder/_2}}]]\n",
      "2023-04-16 20:03:01.583756: I tensorflow/core/common_runtime/executor.cc:1197] [/device:CPU:0] (DEBUG INFO) Executor start aborting (this does not indicate an error and you can ignore this message): INVALID_ARGUMENT: You must feed a value for placeholder tensor 'Placeholder/_3' with dtype double and shape [1166607]\n",
      "\t [[{{node Placeholder/_3}}]]\n"
     ]
    }
   ],
   "source": [
    "# We will use this batch to demonstrate several types of feature columns\n",
    "example_batch = next(iter(train_ds))[0]"
   ]
  },
  {
   "cell_type": "code",
   "execution_count": 8,
   "id": "d6798819",
   "metadata": {},
   "outputs": [],
   "source": [
    "# A utility method to create a feature column\n",
    "# and to transform a batch of data\n",
    "def demo(feature_column):\n",
    "  feature_layer = layers.DenseFeatures(feature_column)\n",
    "  print(feature_layer(example_batch).numpy())"
   ]
  },
  {
   "cell_type": "code",
   "execution_count": 9,
   "id": "158362f9",
   "metadata": {},
   "outputs": [
    {
     "name": "stdout",
     "output_type": "stream",
     "text": [
      "WARNING:tensorflow:From /tmp/ipykernel_3770044/2947573881.py:1: categorical_column_with_vocabulary_list (from tensorflow.python.feature_column.feature_column_v2) is deprecated and will be removed in a future version.\n",
      "Instructions for updating:\n",
      "Use Keras preprocessing layers instead, either directly or via the `tf.keras.utils.FeatureSpace` utility. Each of `tf.feature_column.*` has a functional equivalent in `tf.keras.layers` for feature preprocessing when training a Keras model.\n",
      "WARNING:tensorflow:From /tmp/ipykernel_3770044/2947573881.py:3: embedding_column (from tensorflow.python.feature_column.feature_column_v2) is deprecated and will be removed in a future version.\n",
      "Instructions for updating:\n",
      "Use Keras preprocessing layers instead, either directly or via the `tf.keras.utils.FeatureSpace` utility. Each of `tf.feature_column.*` has a functional equivalent in `tf.keras.layers` for feature preprocessing when training a Keras model.\n",
      "[[ 0.54814655 -0.87871104 -0.57318443  0.05375203]\n",
      " [-0.57837915  0.47989056 -0.87114906 -0.48997074]\n",
      " [ 0.23714423 -0.8234276   0.9255891  -0.02406771]\n",
      " [-0.25595716 -0.28127643  0.35024804  0.39918992]\n",
      " [ 0.23714423 -0.8234276   0.9255891  -0.02406771]]\n"
     ]
    }
   ],
   "source": [
    "kmer = feature_column.categorical_column_with_vocabulary_list(\n",
    "      'kmer', data.kmer.unique())\n",
    "kmer_embedding = feature_column.embedding_column(kmer, dimension=4)\n",
    "demo(kmer_embedding)"
   ]
  },
  {
   "cell_type": "code",
   "execution_count": 10,
   "id": "454b170b",
   "metadata": {},
   "outputs": [
    {
     "name": "stdout",
     "output_type": "stream",
     "text": [
      "WARNING:tensorflow:From /tmp/ipykernel_3770044/2332616898.py:10: numeric_column (from tensorflow.python.feature_column.feature_column_v2) is deprecated and will be removed in a future version.\n",
      "Instructions for updating:\n",
      "Use Keras preprocessing layers instead, either directly or via the `tf.keras.utils.FeatureSpace` utility. Each of `tf.feature_column.*` has a functional equivalent in `tf.keras.layers` for feature preprocessing when training a Keras model.\n",
      "[[ 1.2060000e+02 -5.1180553e-01 -4.8861057e-01  8.9509062e-02\n",
      "   6.9001609e-01  2.8046715e-01 -2.0979883e-01  2.0537612e-01]\n",
      " [ 1.0520000e+02  2.9227889e-01  2.8562436e-01  2.3213746e-01\n",
      "  -5.6724167e-01 -5.1040214e-01  8.2638890e-01  3.9299291e-02]\n",
      " [ 4.1200001e+01 -1.7317981e-02 -5.0901645e-03  1.6411087e-01\n",
      "  -2.1072327e-01  2.1584496e-01 -9.5782411e-01 -5.3295702e-01]\n",
      " [ 7.8599998e+01  1.2109651e-01  1.0175025e-01  1.6175336e-01\n",
      "   5.4808694e-01 -1.8543621e-03 -3.5200772e-01  8.7790757e-01]\n",
      " [ 2.1600000e+01  1.4567105e-01  1.3296910e-01  1.3738136e-01\n",
      "  -2.1072327e-01  2.1584496e-01 -9.5782411e-01 -5.3295702e-01]]\n"
     ]
    }
   ],
   "source": [
    "feature_columns = []\n",
    "# embedding columns\n",
    "kmer = feature_column.categorical_column_with_vocabulary_list(\n",
    "      'kmer', data.kmer.unique())\n",
    "kmer_embedding = feature_column.embedding_column(kmer, dimension=4)\n",
    "feature_columns.append(kmer_embedding)\n",
    "\n",
    "# numeric cols\n",
    "for header in ['avg_mean','avg_std','avg_mdintense','avg_length2']:\n",
    "  feature_columns.append(feature_column.numeric_column(header))\n",
    "\n",
    "demo(feature_columns)"
   ]
  },
  {
   "cell_type": "code",
   "execution_count": 13,
   "id": "6944d0d4",
   "metadata": {},
   "outputs": [
    {
     "ename": "AttributeError",
     "evalue": "'tuple' object has no attribute 'copy'",
     "output_type": "error",
     "traceback": [
      "\u001b[0;31m---------------------------------------------------------------------------\u001b[0m",
      "\u001b[0;31mAttributeError\u001b[0m                            Traceback (most recent call last)",
      "Cell \u001b[0;32mIn[13], line 5\u001b[0m\n\u001b[1;32m      3\u001b[0m batch_size \u001b[38;5;241m=\u001b[39m \u001b[38;5;241m100\u001b[39m\n\u001b[1;32m      4\u001b[0m train_ds \u001b[38;5;241m=\u001b[39m df_to_dataset(train, batch_size\u001b[38;5;241m=\u001b[39mbatch_size)\n\u001b[0;32m----> 5\u001b[0m val_ds \u001b[38;5;241m=\u001b[39m \u001b[43mdf_to_dataset\u001b[49m\u001b[43m(\u001b[49m\u001b[43mval\u001b[49m\u001b[43m,\u001b[49m\u001b[43m \u001b[49m\u001b[43mshuffle\u001b[49m\u001b[38;5;241;43m=\u001b[39;49m\u001b[38;5;28;43;01mFalse\u001b[39;49;00m\u001b[43m,\u001b[49m\u001b[43m \u001b[49m\u001b[43mbatch_size\u001b[49m\u001b[38;5;241;43m=\u001b[39;49m\u001b[43mbatch_size\u001b[49m\u001b[43m)\u001b[49m\n\u001b[1;32m      6\u001b[0m test_ds \u001b[38;5;241m=\u001b[39m df_to_dataset(test, shuffle\u001b[38;5;241m=\u001b[39m\u001b[38;5;28;01mFalse\u001b[39;00m, batch_size\u001b[38;5;241m=\u001b[39mbatch_size)\n\u001b[1;32m      8\u001b[0m \u001b[38;5;66;03m#val, labels = tuple(zip(*val_ds))\u001b[39;00m\n",
      "Cell \u001b[0;32mIn[4], line 3\u001b[0m, in \u001b[0;36mdf_to_dataset\u001b[0;34m(data, shuffle, batch_size)\u001b[0m\n\u001b[1;32m      2\u001b[0m \u001b[38;5;28;01mdef\u001b[39;00m \u001b[38;5;21mdf_to_dataset\u001b[39m(data, shuffle\u001b[38;5;241m=\u001b[39m\u001b[38;5;28;01mTrue\u001b[39;00m, batch_size\u001b[38;5;241m=\u001b[39m\u001b[38;5;241m32\u001b[39m):\n\u001b[0;32m----> 3\u001b[0m   data \u001b[38;5;241m=\u001b[39m \u001b[43mdata\u001b[49m\u001b[38;5;241;43m.\u001b[39;49m\u001b[43mcopy\u001b[49m()\n\u001b[1;32m      4\u001b[0m   labels \u001b[38;5;241m=\u001b[39m data\u001b[38;5;241m.\u001b[39mpop(\u001b[38;5;124m'\u001b[39m\u001b[38;5;124mlabel\u001b[39m\u001b[38;5;124m'\u001b[39m)\n\u001b[1;32m      5\u001b[0m   ds \u001b[38;5;241m=\u001b[39m tf\u001b[38;5;241m.\u001b[39mdata\u001b[38;5;241m.\u001b[39mDataset\u001b[38;5;241m.\u001b[39mfrom_tensor_slices((\u001b[38;5;28mdict\u001b[39m(data), labels))\n",
      "\u001b[0;31mAttributeError\u001b[0m: 'tuple' object has no attribute 'copy'"
     ]
    }
   ],
   "source": [
    "feature_layer = tf.keras.layers.DenseFeatures(feature_columns)\n",
    "\n",
    "batch_size = 100\n",
    "train_ds = df_to_dataset(train, batch_size=batch_size)\n",
    "val_ds = df_to_dataset(val, shuffle=False, batch_size=batch_size)\n",
    "test_ds = df_to_dataset(test, shuffle=False, batch_size=batch_size)\n",
    "\n",
    "val, labels = tuple(zip(*val_ds))"
   ]
  },
  {
   "cell_type": "code",
   "execution_count": 40,
   "id": "a6722efd",
   "metadata": {},
   "outputs": [
    {
     "name": "stdout",
     "output_type": "stream",
     "text": [
      "Epoch 1/50\n",
      "WARNING:tensorflow:Layers in a Sequential model should only have a single input tensor. Received: inputs={'indx': <tf.Tensor 'IteratorGetNext:4' shape=(None,) dtype=int64>, 'kmer': <tf.Tensor 'IteratorGetNext:5' shape=(None,) dtype=string>, 'avg_mean': <tf.Tensor 'IteratorGetNext:2' shape=(None,) dtype=float64>, 'avg_std': <tf.Tensor 'IteratorGetNext:3' shape=(None,) dtype=float64>, 'avg_mdintense': <tf.Tensor 'IteratorGetNext:1' shape=(None,) dtype=float64>, 'avg_length2': <tf.Tensor 'IteratorGetNext:0' shape=(None,) dtype=float64>}. Consider rewriting this model with the Functional API.\n"
     ]
    },
    {
     "name": "stderr",
     "output_type": "stream",
     "text": [
      "2023-04-14 15:07:45.926701: I tensorflow/core/common_runtime/executor.cc:1197] [/device:CPU:0] (DEBUG INFO) Executor start aborting (this does not indicate an error and you can ignore this message): INVALID_ARGUMENT: You must feed a value for placeholder tensor 'Placeholder/_4' with dtype int64 and shape [1166607]\n",
      "\t [[{{node Placeholder/_4}}]]\n",
      "2023-04-14 15:07:45.927332: I tensorflow/core/common_runtime/executor.cc:1197] [/device:CPU:0] (DEBUG INFO) Executor start aborting (this does not indicate an error and you can ignore this message): INVALID_ARGUMENT: You must feed a value for placeholder tensor 'Placeholder/_6' with dtype int64 and shape [1166607]\n",
      "\t [[{{node Placeholder/_6}}]]\n"
     ]
    },
    {
     "name": "stdout",
     "output_type": "stream",
     "text": [
      "WARNING:tensorflow:Layers in a Sequential model should only have a single input tensor. Received: inputs={'indx': <tf.Tensor 'IteratorGetNext:4' shape=(None,) dtype=int64>, 'kmer': <tf.Tensor 'IteratorGetNext:5' shape=(None,) dtype=string>, 'avg_mean': <tf.Tensor 'IteratorGetNext:2' shape=(None,) dtype=float64>, 'avg_std': <tf.Tensor 'IteratorGetNext:3' shape=(None,) dtype=float64>, 'avg_mdintense': <tf.Tensor 'IteratorGetNext:1' shape=(None,) dtype=float64>, 'avg_length2': <tf.Tensor 'IteratorGetNext:0' shape=(None,) dtype=float64>}. Consider rewriting this model with the Functional API.\n",
      "11665/11667 [============================>.] - ETA: 0s - loss: 0.3141 - accuracy: 0.8917WARNING:tensorflow:Layers in a Sequential model should only have a single input tensor. Received: inputs={'indx': <tf.Tensor 'IteratorGetNext:4' shape=(None,) dtype=int64>, 'kmer': <tf.Tensor 'IteratorGetNext:5' shape=(None,) dtype=string>, 'avg_mean': <tf.Tensor 'IteratorGetNext:2' shape=(None,) dtype=float64>, 'avg_std': <tf.Tensor 'IteratorGetNext:3' shape=(None,) dtype=float64>, 'avg_mdintense': <tf.Tensor 'IteratorGetNext:1' shape=(None,) dtype=float64>, 'avg_length2': <tf.Tensor 'IteratorGetNext:0' shape=(None,) dtype=float64>}. Consider rewriting this model with the Functional API.\n"
     ]
    },
    {
     "name": "stderr",
     "output_type": "stream",
     "text": [
      "2023-04-14 15:08:32.427737: I tensorflow/core/common_runtime/executor.cc:1197] [/device:CPU:0] (DEBUG INFO) Executor start aborting (this does not indicate an error and you can ignore this message): INVALID_ARGUMENT: You must feed a value for placeholder tensor 'Placeholder/_4' with dtype int64 and shape [291652]\n",
      "\t [[{{node Placeholder/_4}}]]\n"
     ]
    },
    {
     "name": "stdout",
     "output_type": "stream",
     "text": [
      "11667/11667 [==============================] - 51s 4ms/step - loss: 0.3141 - accuracy: 0.8917 - val_loss: 0.3010 - val_accuracy: 0.8917\n",
      "Epoch 2/50\n",
      "11667/11667 [==============================] - 50s 4ms/step - loss: 0.2991 - accuracy: 0.8918 - val_loss: 0.2972 - val_accuracy: 0.8917\n",
      "Epoch 3/50\n",
      "11667/11667 [==============================] - 51s 4ms/step - loss: 0.2948 - accuracy: 0.8919 - val_loss: 0.2931 - val_accuracy: 0.8917\n",
      "Epoch 4/50\n",
      "11667/11667 [==============================] - 52s 4ms/step - loss: 0.2916 - accuracy: 0.8920 - val_loss: 0.2898 - val_accuracy: 0.8917\n",
      "Epoch 5/50\n",
      "11667/11667 [==============================] - 53s 4ms/step - loss: 0.2891 - accuracy: 0.8921 - val_loss: 0.2869 - val_accuracy: 0.8919\n",
      "Epoch 6/50\n",
      "11667/11667 [==============================] - 52s 4ms/step - loss: 0.2868 - accuracy: 0.8924 - val_loss: 0.2866 - val_accuracy: 0.8920\n",
      "Epoch 7/50\n",
      "11667/11667 [==============================] - 52s 4ms/step - loss: 0.2851 - accuracy: 0.8925 - val_loss: 0.2839 - val_accuracy: 0.8921\n",
      "Epoch 8/50\n",
      "11667/11667 [==============================] - 52s 4ms/step - loss: 0.2836 - accuracy: 0.8928 - val_loss: 0.2807 - val_accuracy: 0.8928\n",
      "Epoch 9/50\n",
      "11667/11667 [==============================] - 51s 4ms/step - loss: 0.2827 - accuracy: 0.8928 - val_loss: 0.2794 - val_accuracy: 0.8926\n",
      "Epoch 10/50\n",
      "11667/11667 [==============================] - 51s 4ms/step - loss: 0.2817 - accuracy: 0.8929 - val_loss: 0.2795 - val_accuracy: 0.8928\n",
      "Epoch 11/50\n",
      "11667/11667 [==============================] - 48s 4ms/step - loss: 0.2812 - accuracy: 0.8931 - val_loss: 0.2830 - val_accuracy: 0.8931\n",
      "Epoch 12/50\n",
      "11667/11667 [==============================] - 50s 4ms/step - loss: 0.2806 - accuracy: 0.8931 - val_loss: 0.2786 - val_accuracy: 0.8928\n",
      "Epoch 13/50\n",
      "11667/11667 [==============================] - 51s 4ms/step - loss: 0.2800 - accuracy: 0.8932 - val_loss: 0.2793 - val_accuracy: 0.8931\n",
      "Epoch 14/50\n",
      "11667/11667 [==============================] - 49s 4ms/step - loss: 0.2794 - accuracy: 0.8934 - val_loss: 0.2763 - val_accuracy: 0.8930\n",
      "Epoch 15/50\n",
      "11667/11667 [==============================] - 49s 4ms/step - loss: 0.2791 - accuracy: 0.8933 - val_loss: 0.2757 - val_accuracy: 0.8924\n",
      "Epoch 16/50\n",
      "11667/11667 [==============================] - 49s 4ms/step - loss: 0.2789 - accuracy: 0.8935 - val_loss: 0.2761 - val_accuracy: 0.8931\n",
      "Epoch 17/50\n",
      "11667/11667 [==============================] - 50s 4ms/step - loss: 0.2783 - accuracy: 0.8936 - val_loss: 0.2773 - val_accuracy: 0.8930\n",
      "Epoch 18/50\n",
      "11667/11667 [==============================] - 59s 5ms/step - loss: 0.2780 - accuracy: 0.8936 - val_loss: 0.2759 - val_accuracy: 0.8933\n",
      "Epoch 19/50\n",
      "11667/11667 [==============================] - 61s 5ms/step - loss: 0.2777 - accuracy: 0.8936 - val_loss: 0.2748 - val_accuracy: 0.8933\n",
      "Epoch 20/50\n",
      "11667/11667 [==============================] - 59s 5ms/step - loss: 0.2776 - accuracy: 0.8938 - val_loss: 0.2764 - val_accuracy: 0.8935\n",
      "Epoch 21/50\n",
      "11667/11667 [==============================] - 62s 5ms/step - loss: 0.2774 - accuracy: 0.8939 - val_loss: 0.2750 - val_accuracy: 0.8944\n",
      "Epoch 22/50\n",
      "11667/11667 [==============================] - 61s 5ms/step - loss: 0.2770 - accuracy: 0.8938 - val_loss: 0.2755 - val_accuracy: 0.8927\n",
      "Epoch 23/50\n",
      "11667/11667 [==============================] - 62s 5ms/step - loss: 0.2768 - accuracy: 0.8939 - val_loss: 0.2752 - val_accuracy: 0.8936\n",
      "Epoch 24/50\n",
      "11667/11667 [==============================] - 56s 4ms/step - loss: 0.2766 - accuracy: 0.8939 - val_loss: 0.2769 - val_accuracy: 0.8932\n",
      "Epoch 25/50\n",
      "11667/11667 [==============================] - 50s 4ms/step - loss: 0.2764 - accuracy: 0.8939 - val_loss: 0.2734 - val_accuracy: 0.8934\n",
      "Epoch 26/50\n",
      "11667/11667 [==============================] - 51s 4ms/step - loss: 0.2762 - accuracy: 0.8940 - val_loss: 0.2744 - val_accuracy: 0.8936\n",
      "Epoch 27/50\n",
      "11667/11667 [==============================] - 49s 4ms/step - loss: 0.2760 - accuracy: 0.8941 - val_loss: 0.2764 - val_accuracy: 0.8941\n",
      "Epoch 28/50\n",
      "11667/11667 [==============================] - 48s 4ms/step - loss: 0.2759 - accuracy: 0.8941 - val_loss: 0.2781 - val_accuracy: 0.8936\n",
      "Epoch 29/50\n",
      "11667/11667 [==============================] - 47s 3ms/step - loss: 0.2758 - accuracy: 0.8941 - val_loss: 0.2733 - val_accuracy: 0.8938\n",
      "Epoch 30/50\n",
      "11667/11667 [==============================] - 46s 3ms/step - loss: 0.2757 - accuracy: 0.8942 - val_loss: 0.2741 - val_accuracy: 0.8946\n",
      "Epoch 31/50\n",
      "11667/11667 [==============================] - 47s 4ms/step - loss: 0.2756 - accuracy: 0.8941 - val_loss: 0.2739 - val_accuracy: 0.8936\n",
      "Epoch 32/50\n",
      "11667/11667 [==============================] - 47s 3ms/step - loss: 0.2754 - accuracy: 0.8942 - val_loss: 0.2726 - val_accuracy: 0.8944\n",
      "Epoch 33/50\n",
      "11667/11667 [==============================] - 48s 4ms/step - loss: 0.2753 - accuracy: 0.8942 - val_loss: 0.2754 - val_accuracy: 0.8938\n",
      "Epoch 34/50\n",
      "11667/11667 [==============================] - 48s 4ms/step - loss: 0.2752 - accuracy: 0.8943 - val_loss: 0.2740 - val_accuracy: 0.8941\n",
      "Epoch 35/50\n",
      "11667/11667 [==============================] - 49s 4ms/step - loss: 0.2752 - accuracy: 0.8942 - val_loss: 0.2719 - val_accuracy: 0.8937\n",
      "Epoch 36/50\n",
      "11667/11667 [==============================] - 48s 4ms/step - loss: 0.2750 - accuracy: 0.8943 - val_loss: 0.2736 - val_accuracy: 0.8942\n",
      "Epoch 37/50\n",
      "11667/11667 [==============================] - 46s 3ms/step - loss: 0.2749 - accuracy: 0.8943 - val_loss: 0.2729 - val_accuracy: 0.8937\n",
      "Epoch 38/50\n",
      "11667/11667 [==============================] - 49s 4ms/step - loss: 0.2749 - accuracy: 0.8943 - val_loss: 0.2758 - val_accuracy: 0.8940\n",
      "Epoch 39/50\n",
      "11667/11667 [==============================] - 49s 4ms/step - loss: 0.2747 - accuracy: 0.8944 - val_loss: 0.2737 - val_accuracy: 0.8940\n",
      "Epoch 40/50\n",
      "11667/11667 [==============================] - 51s 4ms/step - loss: 0.2746 - accuracy: 0.8944 - val_loss: 0.2762 - val_accuracy: 0.8939\n",
      "Epoch 41/50\n",
      "11667/11667 [==============================] - 49s 4ms/step - loss: 0.2746 - accuracy: 0.8945 - val_loss: 0.2714 - val_accuracy: 0.8944\n",
      "Epoch 42/50\n",
      "11667/11667 [==============================] - 50s 4ms/step - loss: 0.2745 - accuracy: 0.8945 - val_loss: 0.2741 - val_accuracy: 0.8935\n",
      "Epoch 43/50\n",
      "11667/11667 [==============================] - 50s 4ms/step - loss: 0.2743 - accuracy: 0.8944 - val_loss: 0.2756 - val_accuracy: 0.8944\n",
      "Epoch 44/50\n",
      "11667/11667 [==============================] - 51s 4ms/step - loss: 0.2743 - accuracy: 0.8943 - val_loss: 0.2727 - val_accuracy: 0.8947\n",
      "Epoch 45/50\n",
      "11667/11667 [==============================] - 49s 4ms/step - loss: 0.2744 - accuracy: 0.8943 - val_loss: 0.2724 - val_accuracy: 0.8941\n",
      "Epoch 46/50\n",
      "11667/11667 [==============================] - 50s 4ms/step - loss: 0.2740 - accuracy: 0.8944 - val_loss: 0.2712 - val_accuracy: 0.8941\n",
      "Epoch 47/50\n",
      "11667/11667 [==============================] - 49s 4ms/step - loss: 0.2741 - accuracy: 0.8945 - val_loss: 0.2718 - val_accuracy: 0.8947\n",
      "Epoch 48/50\n",
      "11667/11667 [==============================] - 49s 4ms/step - loss: 0.2740 - accuracy: 0.8945 - val_loss: 0.2724 - val_accuracy: 0.8935\n",
      "Epoch 49/50\n",
      "11667/11667 [==============================] - 50s 4ms/step - loss: 0.2739 - accuracy: 0.8945 - val_loss: 0.2717 - val_accuracy: 0.8946\n",
      "Epoch 50/50\n",
      "11667/11667 [==============================] - 51s 4ms/step - loss: 0.2738 - accuracy: 0.8945 - val_loss: 0.2709 - val_accuracy: 0.8947\n"
     ]
    }
   ],
   "source": [
    "model = tf.keras.Sequential([\n",
    "  feature_layer,\n",
    "  layers.Dense(128, activation='relu'),\n",
    "  layers.Dense(128, activation='relu'),\n",
    "  layers.Dropout(.1),\n",
    "  layers.Dense(1)\n",
    "])\n",
    "\n",
    "model.compile(optimizer='adam',\n",
    "              loss=tf.keras.losses.BinaryCrossentropy(from_logits=True),\n",
    "              metrics=['accuracy'])\n",
    "\n",
    "my_callbacks = [\n",
    "    tf.keras.callbacks.EarlyStopping(patience=2),\n",
    "    tf.keras.callbacks.ModelCheckpoint(filepath='model.{epoch:02d}-{val_loss:.2f}.h5'),\n",
    "    tf.keras.callbacks.TensorBoard(log_dir='/home/jiayi/5moU/Code/extract_tombo/log/TF_Dense_logs'),\n",
    "]\n",
    "\n",
    "\n",
    "log_dir = \"logs/fit/\" + datetime.datetime.now().strftime(\"%Y%m%d-%H%M%S\")\n",
    "tensorboard_callback = tf.keras.callbacks.TensorBoard(log_dir=log_dir, histogram_freq=1)\n",
    "\n",
    "history=model.fit(train_ds,\n",
    "          validation_data=val_ds,\n",
    "          epochs=50,\n",
    "         callbacks= [tensorboard_callback])"
   ]
  },
  {
   "cell_type": "code",
   "execution_count": 41,
   "id": "6c79ed06",
   "metadata": {},
   "outputs": [
    {
     "data": {
      "image/png": "[encoded data removed]",
      "text/plain": [
       "<Figure size 1800x600 with 2 Axes>"
      ]
     },
     "metadata": {},
     "output_type": "display_data"
    }
   ],
   "source": [
    "from matplotlib import pyplot as plt\n",
    "history_dict = history.history\n",
    "\n",
    "acc = history_dict['accuracy']\n",
    "val_acc = history_dict['val_accuracy']\n",
    "loss = history_dict['loss']\n",
    "val_loss = history_dict['val_loss']\n",
    "epochs = history.epoch\n",
    "\n",
    "fig = plt.figure(figsize=(18,6))\n",
    "\n",
    "plt.subplot2grid((1,2),(0,0),colspan=1,rowspan=1)\n",
    "plt.plot(epochs, acc, 'r', label='training accuracy')\n",
    "plt.plot(epochs, val_acc, 'b', label='validation accuracy')\n",
    "plt.title('Training and validation accuracy', size=18)\n",
    "plt.xlabel('Epochs', size=14)\n",
    "plt.ylabel('Accuracy')\n",
    "plt.legend(prop={'size': 14})\n",
    "\n",
    "plt.subplot2grid((1,2),(0,1),colspan=1,rowspan=1)\n",
    "plt.plot(epochs, loss, 'r', label='training loss')\n",
    "plt.plot(epochs, val_loss, 'b', label='validation loss')\n",
    "plt.title('Training and validation loss', size=18)\n",
    "plt.xlabel('Epochs', size=14)\n",
    "plt.ylabel('Loss')\n",
    "plt.legend(prop={'size': 14})\n",
    "\n",
    "plt.show()\n",
    "\n",
    "\n",
    "fig.savefig('/home/jiayi/5moU/Results/avg_sig_trainlog.png')"
   ]
  },
  {
   "cell_type": "code",
   "execution_count": 44,
   "id": "b93532e8",
   "metadata": {},
   "outputs": [
    {
     "name": "stdout",
     "output_type": "stream",
     "text": [
      "2917/2917 [==============================] - 8s 3ms/step - loss: 0.2741 - accuracy: 0.8943\n"
     ]
    },
    {
     "ename": "TypeError",
     "evalue": "Expected sequence or array-like, got <class 'keras.callbacks.History'>",
     "output_type": "error",
     "traceback": [
      "\u001b[0;31m---------------------------------------------------------------------------\u001b[0m",
      "\u001b[0;31mTypeError\u001b[0m                                 Traceback (most recent call last)",
      "Cell \u001b[0;32mIn[44], line 2\u001b[0m\n\u001b[1;32m      1\u001b[0m \u001b[38;5;28;01mfrom\u001b[39;00m \u001b[38;5;21;01msklearn\u001b[39;00m\u001b[38;5;21;01m.\u001b[39;00m\u001b[38;5;21;01mmetrics\u001b[39;00m \u001b[38;5;28;01mimport\u001b[39;00m classification_report, accuracy_score, confusion_matrix,roc_curve,roc_auc_score\n\u001b[0;32m----> 2\u001b[0m cm \u001b[38;5;241m=\u001b[39m \u001b[43mconfusion_matrix\u001b[49m\u001b[43m(\u001b[49m\u001b[43mtrain_ds\u001b[49m\u001b[43m,\u001b[49m\u001b[43m \u001b[49m\u001b[43mmodel\u001b[49m\u001b[38;5;241;43m.\u001b[39;49m\u001b[43mfit\u001b[49m\u001b[43m(\u001b[49m\u001b[43mval_ds\u001b[49m\u001b[43m)\u001b[49m\u001b[43m)\u001b[49m\n\u001b[1;32m      4\u001b[0m fig \u001b[38;5;241m=\u001b[39m plt\u001b[38;5;241m.\u001b[39mfigure(figsize \u001b[38;5;241m=\u001b[39m (\u001b[38;5;241m8\u001b[39m,\u001b[38;5;241m8\u001b[39m))\n\u001b[1;32m      6\u001b[0m ax1 \u001b[38;5;241m=\u001b[39m sns\u001b[38;5;241m.\u001b[39mheatmap(cm,annot\u001b[38;5;241m=\u001b[39m\u001b[38;5;28;01mTrue\u001b[39;00m,fmt\u001b[38;5;241m=\u001b[39m\u001b[38;5;124m'\u001b[39m\u001b[38;5;124m.20g\u001b[39m\u001b[38;5;124m'\u001b[39m,xticklabels \u001b[38;5;241m=\u001b[39m [\u001b[38;5;124m'\u001b[39m\u001b[38;5;124munmoified\u001b[39m\u001b[38;5;124m'\u001b[39m,\u001b[38;5;124m'\u001b[39m\u001b[38;5;124mmodified\u001b[39m\u001b[38;5;124m'\u001b[39m] , yticklabels \u001b[38;5;241m=\u001b[39m [\u001b[38;5;124m'\u001b[39m\u001b[38;5;124munmodified\u001b[39m\u001b[38;5;124m'\u001b[39m,\u001b[38;5;124m'\u001b[39m\u001b[38;5;124mmodified\u001b[39m\u001b[38;5;124m'\u001b[39m])\n",
      "File \u001b[0;32m~/miniconda3/lib/python3.9/site-packages/sklearn/metrics/_classification.py:307\u001b[0m, in \u001b[0;36mconfusion_matrix\u001b[0;34m(y_true, y_pred, labels, sample_weight, normalize)\u001b[0m\n\u001b[1;32m    222\u001b[0m \u001b[38;5;28;01mdef\u001b[39;00m \u001b[38;5;21mconfusion_matrix\u001b[39m(\n\u001b[1;32m    223\u001b[0m     y_true, y_pred, \u001b[38;5;241m*\u001b[39m, labels\u001b[38;5;241m=\u001b[39m\u001b[38;5;28;01mNone\u001b[39;00m, sample_weight\u001b[38;5;241m=\u001b[39m\u001b[38;5;28;01mNone\u001b[39;00m, normalize\u001b[38;5;241m=\u001b[39m\u001b[38;5;28;01mNone\u001b[39;00m\n\u001b[1;32m    224\u001b[0m ):\n\u001b[1;32m    225\u001b[0m \u001b[38;5;250m    \u001b[39m\u001b[38;5;124;03m\"\"\"Compute confusion matrix to evaluate the accuracy of a classification.\u001b[39;00m\n\u001b[1;32m    226\u001b[0m \n\u001b[1;32m    227\u001b[0m \u001b[38;5;124;03m    By definition a confusion matrix :math:`C` is such that :math:`C_{i, j}`\u001b[39;00m\n\u001b[0;32m   (...)\u001b[0m\n\u001b[1;32m    305\u001b[0m \u001b[38;5;124;03m    (0, 2, 1, 1)\u001b[39;00m\n\u001b[1;32m    306\u001b[0m \u001b[38;5;124;03m    \"\"\"\u001b[39;00m\n\u001b[0;32m--> 307\u001b[0m     y_type, y_true, y_pred \u001b[38;5;241m=\u001b[39m \u001b[43m_check_targets\u001b[49m\u001b[43m(\u001b[49m\u001b[43my_true\u001b[49m\u001b[43m,\u001b[49m\u001b[43m \u001b[49m\u001b[43my_pred\u001b[49m\u001b[43m)\u001b[49m\n\u001b[1;32m    308\u001b[0m     \u001b[38;5;28;01mif\u001b[39;00m y_type \u001b[38;5;129;01mnot\u001b[39;00m \u001b[38;5;129;01min\u001b[39;00m (\u001b[38;5;124m\"\u001b[39m\u001b[38;5;124mbinary\u001b[39m\u001b[38;5;124m\"\u001b[39m, \u001b[38;5;124m\"\u001b[39m\u001b[38;5;124mmulticlass\u001b[39m\u001b[38;5;124m\"\u001b[39m):\n\u001b[1;32m    309\u001b[0m         \u001b[38;5;28;01mraise\u001b[39;00m \u001b[38;5;167;01mValueError\u001b[39;00m(\u001b[38;5;124m\"\u001b[39m\u001b[38;5;132;01m%s\u001b[39;00m\u001b[38;5;124m is not supported\u001b[39m\u001b[38;5;124m\"\u001b[39m \u001b[38;5;241m%\u001b[39m y_type)\n",
      "File \u001b[0;32m~/miniconda3/lib/python3.9/site-packages/sklearn/metrics/_classification.py:84\u001b[0m, in \u001b[0;36m_check_targets\u001b[0;34m(y_true, y_pred)\u001b[0m\n\u001b[1;32m     57\u001b[0m \u001b[38;5;28;01mdef\u001b[39;00m \u001b[38;5;21m_check_targets\u001b[39m(y_true, y_pred):\n\u001b[1;32m     58\u001b[0m \u001b[38;5;250m    \u001b[39m\u001b[38;5;124;03m\"\"\"Check that y_true and y_pred belong to the same classification task.\u001b[39;00m\n\u001b[1;32m     59\u001b[0m \n\u001b[1;32m     60\u001b[0m \u001b[38;5;124;03m    This converts multiclass or binary types to a common shape, and raises a\u001b[39;00m\n\u001b[0;32m   (...)\u001b[0m\n\u001b[1;32m     82\u001b[0m \u001b[38;5;124;03m    y_pred : array or indicator matrix\u001b[39;00m\n\u001b[1;32m     83\u001b[0m \u001b[38;5;124;03m    \"\"\"\u001b[39;00m\n\u001b[0;32m---> 84\u001b[0m     \u001b[43mcheck_consistent_length\u001b[49m\u001b[43m(\u001b[49m\u001b[43my_true\u001b[49m\u001b[43m,\u001b[49m\u001b[43m \u001b[49m\u001b[43my_pred\u001b[49m\u001b[43m)\u001b[49m\n\u001b[1;32m     85\u001b[0m     type_true \u001b[38;5;241m=\u001b[39m type_of_target(y_true, input_name\u001b[38;5;241m=\u001b[39m\u001b[38;5;124m\"\u001b[39m\u001b[38;5;124my_true\u001b[39m\u001b[38;5;124m\"\u001b[39m)\n\u001b[1;32m     86\u001b[0m     type_pred \u001b[38;5;241m=\u001b[39m type_of_target(y_pred, input_name\u001b[38;5;241m=\u001b[39m\u001b[38;5;124m\"\u001b[39m\u001b[38;5;124my_pred\u001b[39m\u001b[38;5;124m\"\u001b[39m)\n",
      "File \u001b[0;32m~/miniconda3/lib/python3.9/site-packages/sklearn/utils/validation.py:384\u001b[0m, in \u001b[0;36mcheck_consistent_length\u001b[0;34m(*arrays)\u001b[0m\n\u001b[1;32m    373\u001b[0m \u001b[38;5;28;01mdef\u001b[39;00m \u001b[38;5;21mcheck_consistent_length\u001b[39m(\u001b[38;5;241m*\u001b[39marrays):\n\u001b[1;32m    374\u001b[0m \u001b[38;5;250m    \u001b[39m\u001b[38;5;124;03m\"\"\"Check that all arrays have consistent first dimensions.\u001b[39;00m\n\u001b[1;32m    375\u001b[0m \n\u001b[1;32m    376\u001b[0m \u001b[38;5;124;03m    Checks whether all objects in arrays have the same shape or length.\u001b[39;00m\n\u001b[0;32m   (...)\u001b[0m\n\u001b[1;32m    381\u001b[0m \u001b[38;5;124;03m        Objects that will be checked for consistent length.\u001b[39;00m\n\u001b[1;32m    382\u001b[0m \u001b[38;5;124;03m    \"\"\"\u001b[39;00m\n\u001b[0;32m--> 384\u001b[0m     lengths \u001b[38;5;241m=\u001b[39m [_num_samples(X) \u001b[38;5;28;01mfor\u001b[39;00m X \u001b[38;5;129;01min\u001b[39;00m arrays \u001b[38;5;28;01mif\u001b[39;00m X \u001b[38;5;129;01mis\u001b[39;00m \u001b[38;5;129;01mnot\u001b[39;00m \u001b[38;5;28;01mNone\u001b[39;00m]\n\u001b[1;32m    385\u001b[0m     uniques \u001b[38;5;241m=\u001b[39m np\u001b[38;5;241m.\u001b[39munique(lengths)\n\u001b[1;32m    386\u001b[0m     \u001b[38;5;28;01mif\u001b[39;00m \u001b[38;5;28mlen\u001b[39m(uniques) \u001b[38;5;241m>\u001b[39m \u001b[38;5;241m1\u001b[39m:\n",
      "File \u001b[0;32m~/miniconda3/lib/python3.9/site-packages/sklearn/utils/validation.py:384\u001b[0m, in \u001b[0;36m<listcomp>\u001b[0;34m(.0)\u001b[0m\n\u001b[1;32m    373\u001b[0m \u001b[38;5;28;01mdef\u001b[39;00m \u001b[38;5;21mcheck_consistent_length\u001b[39m(\u001b[38;5;241m*\u001b[39marrays):\n\u001b[1;32m    374\u001b[0m \u001b[38;5;250m    \u001b[39m\u001b[38;5;124;03m\"\"\"Check that all arrays have consistent first dimensions.\u001b[39;00m\n\u001b[1;32m    375\u001b[0m \n\u001b[1;32m    376\u001b[0m \u001b[38;5;124;03m    Checks whether all objects in arrays have the same shape or length.\u001b[39;00m\n\u001b[0;32m   (...)\u001b[0m\n\u001b[1;32m    381\u001b[0m \u001b[38;5;124;03m        Objects that will be checked for consistent length.\u001b[39;00m\n\u001b[1;32m    382\u001b[0m \u001b[38;5;124;03m    \"\"\"\u001b[39;00m\n\u001b[0;32m--> 384\u001b[0m     lengths \u001b[38;5;241m=\u001b[39m [\u001b[43m_num_samples\u001b[49m\u001b[43m(\u001b[49m\u001b[43mX\u001b[49m\u001b[43m)\u001b[49m \u001b[38;5;28;01mfor\u001b[39;00m X \u001b[38;5;129;01min\u001b[39;00m arrays \u001b[38;5;28;01mif\u001b[39;00m X \u001b[38;5;129;01mis\u001b[39;00m \u001b[38;5;129;01mnot\u001b[39;00m \u001b[38;5;28;01mNone\u001b[39;00m]\n\u001b[1;32m    385\u001b[0m     uniques \u001b[38;5;241m=\u001b[39m np\u001b[38;5;241m.\u001b[39munique(lengths)\n\u001b[1;32m    386\u001b[0m     \u001b[38;5;28;01mif\u001b[39;00m \u001b[38;5;28mlen\u001b[39m(uniques) \u001b[38;5;241m>\u001b[39m \u001b[38;5;241m1\u001b[39m:\n",
      "File \u001b[0;32m~/miniconda3/lib/python3.9/site-packages/sklearn/utils/validation.py:321\u001b[0m, in \u001b[0;36m_num_samples\u001b[0;34m(x)\u001b[0m\n\u001b[1;32m    319\u001b[0m         x \u001b[38;5;241m=\u001b[39m np\u001b[38;5;241m.\u001b[39masarray(x)\n\u001b[1;32m    320\u001b[0m     \u001b[38;5;28;01melse\u001b[39;00m:\n\u001b[0;32m--> 321\u001b[0m         \u001b[38;5;28;01mraise\u001b[39;00m \u001b[38;5;167;01mTypeError\u001b[39;00m(message)\n\u001b[1;32m    323\u001b[0m \u001b[38;5;28;01mif\u001b[39;00m \u001b[38;5;28mhasattr\u001b[39m(x, \u001b[38;5;124m\"\u001b[39m\u001b[38;5;124mshape\u001b[39m\u001b[38;5;124m\"\u001b[39m) \u001b[38;5;129;01mand\u001b[39;00m x\u001b[38;5;241m.\u001b[39mshape \u001b[38;5;129;01mis\u001b[39;00m \u001b[38;5;129;01mnot\u001b[39;00m \u001b[38;5;28;01mNone\u001b[39;00m:\n\u001b[1;32m    324\u001b[0m     \u001b[38;5;28;01mif\u001b[39;00m \u001b[38;5;28mlen\u001b[39m(x\u001b[38;5;241m.\u001b[39mshape) \u001b[38;5;241m==\u001b[39m \u001b[38;5;241m0\u001b[39m:\n",
      "\u001b[0;31mTypeError\u001b[0m: Expected sequence or array-like, got <class 'keras.callbacks.History'>"
     ]
    }
   ],
   "source": [
    "from sklearn.metrics import classification_report, accuracy_score, confusion_matrix,roc_curve,roc_auc_score\n",
    "cm = confusion_matrix(train_ds, model.fit(val_ds))\n",
    "\n",
    "fig = plt.figure(figsize = (8,8))\n",
    "\n",
    "ax1 = sns.heatmap(cm,annot=True,fmt='.20g',xticklabels = ['unmoified','modified'] , yticklabels = ['unmodified','modified'])\n",
    "ax1.set_title('Confusion matrix for neural network model',size = 18)\n",
    "ax1.set_xlabel('predict')\n",
    "ax1.set_ylabel('true')\n",
    "\n",
    "plt.show()\n",
    "\n",
    "fig.savefig('/home/jiayi/5moU/Results/confusion.png')"
   ]
  },
  {
   "cell_type": "code",
   "execution_count": 64,
   "id": "bf1b58ee",
   "metadata": {},
   "outputs": [],
   "source": [
    "import os\n",
    "import tempfile\n",
    "initial_weights = os.path.join(tempfile.mkdtemp(), 'initial_weights')\n",
    "model.save_weights(initial_weights)"
   ]
  },
  {
   "cell_type": "code",
   "execution_count": 85,
   "id": "da0b9ddf",
   "metadata": {},
   "outputs": [
    {
     "ename": "NameError",
     "evalue": "name 'labels' is not defined",
     "output_type": "error",
     "traceback": [
      "\u001b[0;31m---------------------------------------------------------------------------\u001b[0m",
      "\u001b[0;31mNameError\u001b[0m                                 Traceback (most recent call last)",
      "Cell \u001b[0;32mIn[85], line 5\u001b[0m\n\u001b[1;32m      1\u001b[0m model\u001b[38;5;241m.\u001b[39mload_weights(initial_weights)\n\u001b[1;32m      2\u001b[0m model\u001b[38;5;241m.\u001b[39mlayers[\u001b[38;5;241m-\u001b[39m\u001b[38;5;241m1\u001b[39m]\u001b[38;5;241m.\u001b[39mbias\u001b[38;5;241m.\u001b[39massign([\u001b[38;5;241m0.0\u001b[39m])\n\u001b[1;32m      3\u001b[0m zero_bias_history \u001b[38;5;241m=\u001b[39m model\u001b[38;5;241m.\u001b[39mfit(\n\u001b[1;32m      4\u001b[0m     feature_columns,\n\u001b[0;32m----> 5\u001b[0m     \u001b[43mlabels\u001b[49m,\n\u001b[1;32m      6\u001b[0m     batch_size\u001b[38;5;241m=\u001b[39mBATCH_SIZE,\n\u001b[1;32m      7\u001b[0m     epochs\u001b[38;5;241m=\u001b[39m\u001b[38;5;241m20\u001b[39m,\n\u001b[1;32m      8\u001b[0m     validation_data\u001b[38;5;241m=\u001b[39m(val_features, val_labels), \n\u001b[1;32m      9\u001b[0m     verbose\u001b[38;5;241m=\u001b[39m\u001b[38;5;241m0\u001b[39m)\n",
      "\u001b[0;31mNameError\u001b[0m: name 'labels' is not defined"
     ]
    }
   ],
   "source": [
    "model.load_weights(initial_weights)\n",
    "model.layers[-1].bias.assign([0.0])\n",
    "zero_bias_history = model.fit(\n",
    "    feature_columns,\n",
    "    labels,\n",
    "    batch_size=BATCH_SIZE,\n",
    "    epochs=20,\n",
    "    validation_data=(val_features, val_labels), \n",
    "    verbose=0)"
   ]
  },
  {
   "cell_type": "code",
   "execution_count": 77,
   "id": "f29bfd08",
   "metadata": {},
   "outputs": [],
   "source": [
    "reload_ext tensorboard\n"
   ]
  },
  {
   "cell_type": "code",
   "execution_count": 82,
   "id": "1bc5b09a",
   "metadata": {},
   "outputs": [
    {
     "data": {
      "text/plain": [
       "ERROR: Failed to launch TensorBoard (exited with 1).\n",
       "Contents of stderr:\n",
       "2023-04-09 20:17:26.168761: W tensorflow/compiler/tf2tensorrt/utils/py_utils.cc:38] TF-TRT Warning: Could not find TensorRT\n",
       "2023-04-09 20:17:27.898136: W tensorflow/core/common_runtime/gpu/gpu_device.cc:1956] Cannot dlopen some GPU libraries. Please make sure the missing libraries mentioned above are installed properly if you would like to use GPU. Follow the guide at https://www.tensorflow.org/install/gpu for how to download and setup the required libraries for your platform.\n",
       "Skipping registering GPU devices...\n",
       "/home/jiayi/miniconda3/lib/python3.9/site-packages/tensorboard_data_server/bin/server: /lib/x86_64-linux-gnu/libc.so.6: version `GLIBC_2.33' not found (required by /home/jiayi/miniconda3/lib/python3.9/site-packages/tensorboard_data_server/bin/server)\n",
       "/home/jiayi/miniconda3/lib/python3.9/site-packages/tensorboard_data_server/bin/server: /lib/x86_64-linux-gnu/libc.so.6: version `GLIBC_2.34' not found (required by /home/jiayi/miniconda3/lib/python3.9/site-packages/tensorboard_data_server/bin/server)\n",
       "/home/jiayi/miniconda3/lib/python3.9/site-packages/tensorboard_data_server/bin/server: /lib/x86_64-linux-gnu/libc.so.6: version `GLIBC_2.32' not found (required by /home/jiayi/miniconda3/lib/python3.9/site-packages/tensorboard_data_server/bin/server)\n",
       "E0409 20:17:27.957718 139773000090432 application.py:125] Failed to load plugin WhatIfToolPluginLoader.load; ignoring it.\n",
       "Traceback (most recent call last):\n",
       "  File \"/home/jiayi/miniconda3/lib/python3.9/site-packages/tensorboard/backend/application.py\", line 123, in TensorBoardWSGIApp\n",
       "    plugin = loader.load(context)\n",
       "  File \"/home/jiayi/miniconda3/lib/python3.9/site-packages/tensorboard_plugin_wit/wit_plugin_loader.py\", line 57, in load\n",
       "    from tensorboard_plugin_wit.wit_plugin import WhatIfToolPlugin\n",
       "  File \"/home/jiayi/miniconda3/lib/python3.9/site-packages/tensorboard_plugin_wit/wit_plugin.py\", line 40, in <module>\n",
       "    from tensorboard_plugin_wit._utils import common_utils\n",
       "  File \"/home/jiayi/miniconda3/lib/python3.9/site-packages/tensorboard_plugin_wit/_utils/common_utils.py\", line 17, in <module>\n",
       "    from tensorboard_plugin_wit._vendor.tensorflow_serving.apis import classification_pb2\n",
       "  File \"/home/jiayi/miniconda3/lib/python3.9/site-packages/tensorboard_plugin_wit/_vendor/tensorflow_serving/apis/classification_pb2.py\", line 15, in <module>\n",
       "    from tensorboard_plugin_wit._vendor.tensorflow_serving.apis import input_pb2 as tensorflow__serving_dot_apis_dot_input__pb2\n",
       "  File \"/home/jiayi/miniconda3/lib/python3.9/site-packages/tensorboard_plugin_wit/_vendor/tensorflow_serving/apis/input_pb2.py\", line 37, in <module>\n",
       "    _descriptor.FieldDescriptor(\n",
       "  File \"/home/jiayi/miniconda3/lib/python3.9/site-packages/google/protobuf/descriptor.py\", line 561, in __new__\n",
       "    _message.Message._CheckCalledFromGeneratedFile()\n",
       "TypeError: Descriptors cannot not be created directly.\n",
       "If this call came from a _pb2.py file, your generated code is out of date and must be regenerated with protoc >= 3.19.0.\n",
       "If you cannot immediately regenerate your protos, some other possible workarounds are:\n",
       " 1. Downgrade the protobuf package to 3.20.x or lower.\n",
       " 2. Set PROTOCOL_BUFFERS_PYTHON_IMPLEMENTATION=python (but this will use pure-Python parsing and will be much slower).\n",
       "\n",
       "More information: https://developers.google.com/protocol-buffers/docs/news/2022-05-06#python-updates\n",
       "Address already in use\n",
       "Port 6006 is in use by another program. Either identify and stop that program, or start the server with a different port."
      ]
     },
     "metadata": {},
     "output_type": "display_data"
    }
   ],
   "source": [
    "%tensorboard --logdir=\"/home/jiayi/5moU/Code/extract_tombo/logs/fit\"\n",
    "#tensorboard --logdir logs/fit\n",
    "#10.7.6.98:6006\n",
    "#http://hostname:port\n",
    "#tensorboard --logdir=\"./tb_log\"\n",
    "#tensorboard --logdir= \"/home/jiayi/5moU/Code/extract_tombo/logs/fit\""
   ]
  },
  {
   "cell_type": "code",
   "execution_count": 59,
   "id": "2a57d649",
   "metadata": {},
   "outputs": [
    {
     "name": "stdout",
     "output_type": "stream",
     "text": [
      "  111/11393 [..............................] - ETA: 15s - loss: 0.2859 - accuracy: 0.8970"
     ]
    },
    {
     "name": "stderr",
     "output_type": "stream",
     "text": [
      "2023-04-09 13:05:26.150445: I tensorflow/core/common_runtime/executor.cc:1197] [/device:CPU:0] (DEBUG INFO) Executor start aborting (this does not indicate an error and you can ignore this message): INVALID_ARGUMENT: You must feed a value for placeholder tensor 'Placeholder/_6' with dtype int64 and shape [364565]\n",
      "\t [[{{node Placeholder/_6}}]]\n"
     ]
    },
    {
     "name": "stdout",
     "output_type": "stream",
     "text": [
      "11393/11393 [==============================] - 15s 1ms/step - loss: 0.2875 - accuracy: 0.8925\n",
      "Accuracy 0.8924581408500671\n"
     ]
    }
   ],
   "source": [
    "loss, accuracy = model.evaluate(test_ds)\n",
    "print(\"Accuracy\", accuracy)"
   ]
  },
  {
   "cell_type": "code",
   "execution_count": null,
   "id": "b938af2a",
   "metadata": {},
   "outputs": [],
   "source": [
    "model.summary()"
   ]
  },
  {
   "cell_type": "code",
   "execution_count": 43,
   "id": "106a76eb",
   "metadata": {},
   "outputs": [
    {
     "name": "stdout",
     "output_type": "stream",
     "text": [
      "The tensorboard extension is already loaded. To reload it, use:\n",
      "  %reload_ext tensorboard\n"
     ]
    }
   ],
   "source": [
    "load_ext tensorboard\n"
   ]
  },
  {
   "cell_type": "code",
   "execution_count": 61,
   "id": "b636c814",
   "metadata": {},
   "outputs": [],
   "source": [
    "!kill 2964666"
   ]
  },
  {
   "cell_type": "code",
   "execution_count": 44,
   "id": "43505a4a",
   "metadata": {},
   "outputs": [
    {
     "data": {
      "text/plain": [
       "Reusing TensorBoard on port 6006 (pid 2964666), started 0:04:06 ago. (Use '!kill 2964666' to kill it.)"
      ]
     },
     "metadata": {},
     "output_type": "display_data"
    },
    {
     "data": {
      "text/html": [
       "\n",
       "      <iframe id=\"tensorboard-frame-3b9fa2c925f71fb4\" width=\"100%\" height=\"800\" frameborder=\"0\">\n",
       "      </iframe>\n",
       "      <script>\n",
       "        (function() {\n",
       "          const frame = document.getElementById(\"tensorboard-frame-3b9fa2c925f71fb4\");\n",
       "          const url = new URL(\"/\", window.location);\n",
       "          const port = 6006;\n",
       "          if (port) {\n",
       "            url.port = port;\n",
       "          }\n",
       "          frame.src = url;\n",
       "        })();\n",
       "      </script>\n",
       "    "
      ],
      "text/plain": [
       "<IPython.core.display.HTML object>"
      ]
     },
     "metadata": {},
     "output_type": "display_data"
    }
   ],
   "source": [
    "\n",
    "tensorboard --logdir logs"
   ]
  },
  {
   "cell_type": "code",
   "execution_count": null,
   "id": "265cb43c",
   "metadata": {},
   "outputs": [],
   "source": []
  }
 ],
 "metadata": {
  "kernelspec": {
   "display_name": "Python 3 (ipykernel)",
   "language": "python",
   "name": "python3"
  },
  "language_info": {
   "codemirror_mode": {
    "name": "ipython",
    "version": 3
   },
   "file_extension": ".py",
   "mimetype": "text/x-python",
   "name": "python",
   "nbconvert_exporter": "python",
   "pygments_lexer": "ipython3",
   "version": "3.9.12"
  }
 },
 "nbformat": 4,
 "nbformat_minor": 5
}
